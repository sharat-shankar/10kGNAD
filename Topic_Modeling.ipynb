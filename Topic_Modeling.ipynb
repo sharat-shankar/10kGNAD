{
  "nbformat": 4,
  "nbformat_minor": 0,
  "metadata": {
    "colab": {
      "name": "J045_NLP_M2",
      "provenance": [],
      "collapsed_sections": [],
      "mount_file_id": "1V1ZQXu8K4Z_AQasHjOEqIz7-1qPqp064",
      "authorship_tag": "ABX9TyPPk86Vx//r0QJm8YprqUxD",
      "include_colab_link": true
    },
    "kernelspec": {
      "name": "python3",
      "display_name": "Python 3"
    },
    "accelerator": "TPU"
  },
  "cells": [
    {
      "cell_type": "markdown",
      "metadata": {
        "id": "view-in-github",
        "colab_type": "text"
      },
      "source": [
        "<a href=\"https://colab.research.google.com/github/sharat-shankar/10kGNAD/blob/master/J045_NLP_M2.ipynb\" target=\"_parent\"><img src=\"https://colab.research.google.com/assets/colab-badge.svg\" alt=\"Open In Colab\"/></a>"
      ]
    },
    {
      "cell_type": "code",
      "metadata": {
        "id": "H7FoKi4jgfVz",
        "colab_type": "code",
        "colab": {}
      },
      "source": [
        "!pip install pyLDAvis"
      ],
      "execution_count": 0,
      "outputs": []
    },
    {
      "cell_type": "markdown",
      "metadata": {
        "id": "nfB6I1F4KSuu",
        "colab_type": "text"
      },
      "source": [
        "# **Libraries and Loading Data**"
      ]
    },
    {
      "cell_type": "code",
      "metadata": {
        "id": "GMJ4Qwaq021O",
        "colab_type": "code",
        "colab": {
          "base_uri": "https://localhost:8080/",
          "height": 242
        },
        "outputId": "9bc086e6-20bb-4340-e178-bd01aaa293b7"
      },
      "source": [
        "# Library Requirements\n",
        "import os\n",
        "import re\n",
        "import nltk\n",
        "import scipy\n",
        "import gensim\n",
        "import pickle \n",
        "import pyLDAvis\n",
        "import itertools\n",
        "import numpy as np\n",
        "import pandas as pd\n",
        "import pyLDAvis.gensim\n",
        "from gensim import models\n",
        "from zipfile import ZipFile\n",
        "from bs4 import BeautifulSoup\n",
        "from google.colab import files\n",
        "from nltk.corpus import stopwords\n",
        "from gensim.models import Word2Vec\n",
        "from itertools import combinations\n",
        "from sklearn.pipeline import Pipeline\n",
        "from string import digits,punctuation \n",
        "from nltk.tokenize import word_tokenize\n",
        "from pyLDAvis import sklearn as sklearn_lda\n",
        "from gensim.models.ldamodel import LdaModel\n",
        "from gensim.sklearn_api import LdaTransformer\n",
        "from sklearn.preprocessing import FunctionTransformer\n",
        "from gensim.test.utils import get_tmpfile, common_texts\n",
        "from sklearn.feature_extraction.text import TfidfVectorizer\n",
        "from sklearn.feature_extraction.text import CountVectorizer\n",
        "from sklearn.decomposition import LatentDirichletAllocation as LDA\n",
        "nltk.download('punkt')\n",
        "nltk.download('punkt')\n",
        "nltk.download('wordnet')\n",
        "nltk.download('stopwords') \n",
        "nltk.download('averaged_perceptron_tagger')"
      ],
      "execution_count": 1,
      "outputs": [
        {
          "output_type": "stream",
          "text": [
            "[nltk_data] Downloading package punkt to /root/nltk_data...\n",
            "[nltk_data]   Package punkt is already up-to-date!\n",
            "[nltk_data] Downloading package punkt to /root/nltk_data...\n",
            "[nltk_data]   Package punkt is already up-to-date!\n",
            "[nltk_data] Downloading package wordnet to /root/nltk_data...\n",
            "[nltk_data]   Package wordnet is already up-to-date!\n",
            "[nltk_data] Downloading package stopwords to /root/nltk_data...\n",
            "[nltk_data]   Package stopwords is already up-to-date!\n",
            "[nltk_data] Downloading package averaged_perceptron_tagger to\n",
            "[nltk_data]     /root/nltk_data...\n",
            "[nltk_data]   Package averaged_perceptron_tagger is already up-to-\n",
            "[nltk_data]       date!\n"
          ],
          "name": "stdout"
        },
        {
          "output_type": "execute_result",
          "data": {
            "text/plain": [
              "True"
            ]
          },
          "metadata": {
            "tags": []
          },
          "execution_count": 1
        }
      ]
    },
    {
      "cell_type": "code",
      "metadata": {
        "id": "cLZ5EFdVyk7M",
        "colab_type": "code",
        "colab": {
          "base_uri": "https://localhost:8080/",
          "height": 363
        },
        "outputId": "33b781ec-97ce-4e13-fee0-4aee096c8b5c"
      },
      "source": [
        "! wget https://github.com/amsurve/J050_sem6_nlp/blob/master/datasets/10k-german-news-articles.zip?raw=true"
      ],
      "execution_count": 174,
      "outputs": [
        {
          "output_type": "stream",
          "text": [
            "--2020-03-03 14:47:13--  https://github.com/amsurve/J050_sem6_nlp/blob/master/datasets/10k-german-news-articles.zip?raw=true\n",
            "Resolving github.com (github.com)... 140.82.113.4\n",
            "Connecting to github.com (github.com)|140.82.113.4|:443... connected.\n",
            "HTTP request sent, awaiting response... 302 Found\n",
            "Location: https://github.com/amsurve/J050_sem6_nlp/raw/master/datasets/10k-german-news-articles.zip [following]\n",
            "--2020-03-03 14:47:13--  https://github.com/amsurve/J050_sem6_nlp/raw/master/datasets/10k-german-news-articles.zip\n",
            "Reusing existing connection to github.com:443.\n",
            "HTTP request sent, awaiting response... 302 Found\n",
            "Location: https://media.githubusercontent.com/media/amsurve/J050_sem6_nlp/master/datasets/10k-german-news-articles.zip [following]\n",
            "--2020-03-03 14:47:14--  https://media.githubusercontent.com/media/amsurve/J050_sem6_nlp/master/datasets/10k-german-news-articles.zip\n",
            "Resolving media.githubusercontent.com (media.githubusercontent.com)... 151.101.0.133, 151.101.64.133, 151.101.128.133, ...\n",
            "Connecting to media.githubusercontent.com (media.githubusercontent.com)|151.101.0.133|:443... connected.\n",
            "HTTP request sent, awaiting response... 200 OK\n",
            "Length: 128989980 (123M) [application/zip]\n",
            "Saving to: ‘10k-german-news-articles.zip?raw=true’\n",
            "\n",
            "10k-german-news-art 100%[===================>] 123.01M   215MB/s    in 0.6s    \n",
            "\n",
            "2020-03-03 14:47:14 (215 MB/s) - ‘10k-german-news-articles.zip?raw=true’ saved [128989980/128989980]\n",
            "\n"
          ],
          "name": "stdout"
        }
      ]
    },
    {
      "cell_type": "code",
      "metadata": {
        "id": "gZbjvr3FWBVv",
        "colab_type": "code",
        "colab": {
          "base_uri": "https://localhost:8080/",
          "height": 173
        },
        "outputId": "14a9287c-fd90-4347-f7b0-63744e147bdd"
      },
      "source": [
        "# Unzipping the Datasets\n",
        "! mkdir 10kGNAD\n",
        "! unzip 10k-german-news-articles.zip?raw=true -d 10kGNAD"
      ],
      "execution_count": 175,
      "outputs": [
        {
          "output_type": "stream",
          "text": [
            "mkdir: cannot create directory ‘10kGNAD’: File exists\n",
            "Archive:  10k-german-news-articles.zip?raw=true\n",
            "  inflating: 10kGNAD/Annotations.csv  \n",
            "  inflating: 10kGNAD/Annotations_consolidated.csv  \n",
            "  inflating: 10kGNAD/Articles.csv    \n",
            "  inflating: 10kGNAD/Categories.csv  \n",
            "  inflating: 10kGNAD/CrossValSplit.csv  \n",
            "  inflating: 10kGNAD/Newspaper_Staff.csv  \n",
            "  inflating: 10kGNAD/Posts.csv       \n"
          ],
          "name": "stdout"
        }
      ]
    },
    {
      "cell_type": "code",
      "metadata": {
        "id": "fSkp_4JvUXAy",
        "colab_type": "code",
        "colab": {}
      },
      "source": [
        "# Import datasets into pandas dataframe\n",
        "Articles = pd.read_csv('10kGNAD/Articles.csv')"
      ],
      "execution_count": 0,
      "outputs": []
    },
    {
      "cell_type": "code",
      "metadata": {
        "id": "-ifLaMaY4JqO",
        "colab_type": "code",
        "colab": {}
      },
      "source": [
        "Articles = Articles.drop(['ID_Article','Path','publishingDate'],1)\n",
        "articles = Articles[0:1000]"
      ],
      "execution_count": 0,
      "outputs": []
    },
    {
      "cell_type": "markdown",
      "metadata": {
        "id": "61ZHIRG8KZ4n",
        "colab_type": "text"
      },
      "source": [
        "# **Functions for SKLEARN PIPELINE**"
      ]
    },
    {
      "cell_type": "code",
      "metadata": {
        "id": "QVCCGFO4b_cD",
        "colab_type": "code",
        "colab": {}
      },
      "source": [
        "# Function to extract the body from the HTML text\n",
        "def extract_body_per_row(str):\n",
        "  soup = BeautifulSoup(str)\n",
        "  for script in soup([\"script\", \"style\"]):\n",
        "      script.extract()\n",
        "  clean_text = soup.get_text()\n",
        "  lines = (line.strip() for line in clean_text.splitlines())\n",
        "  chunks = (phrase.strip() for line in lines for phrase in line.split(\"  \"))\n",
        "  final_text = '\\n'.join(chunk for chunk in chunks if chunk)\n",
        "  return(final_text)\n",
        "\n",
        "def html_processed_df(df):\n",
        "  return df.apply(extract_body_per_row)\n",
        "\n",
        "get_html_body = FunctionTransformer(html_processed_df, validate=False)"
      ],
      "execution_count": 0,
      "outputs": []
    },
    {
      "cell_type": "code",
      "metadata": {
        "id": "rFXZcRTp1kNu",
        "colab_type": "code",
        "colab": {}
      },
      "source": [
        "# Function to extract tokens from the body and remove stopwords, punctuations and digits\n",
        "remove_digits = str.maketrans('', '', digits)\n",
        "stop_words = set(stopwords.words('german'))\n",
        "\n",
        "def token_extractifier(str):\n",
        "  str = str.lower()\n",
        "  str = str.translate(remove_digits)\n",
        "  str = re.sub(r'[^\\w\\s]',' ',str)\n",
        "  token = word_tokenize(str)\n",
        "  words = [word for word in token if word not in stop_words and word not in punctuation]\n",
        "  return words\n",
        "\n",
        "def tokenized_df(df):\n",
        "   df = df.apply(token_extractifier)\n",
        "   global dictionary\n",
        "   dictionary = gensim.corpora.Dictionary(df)\n",
        "   return df\n",
        "\n",
        "get_tokens = FunctionTransformer(tokenized_df, validate=False)"
      ],
      "execution_count": 0,
      "outputs": []
    },
    {
      "cell_type": "code",
      "metadata": {
        "id": "IA6HrqKifBSe",
        "colab_type": "code",
        "colab": {}
      },
      "source": [
        "# Fuction to convert the processed doc into Count Vectorizer dataframe\n",
        "def dummy_function(doc):\n",
        "    return doc\n",
        "\n",
        "def convert_to_count_vec(df):\n",
        "  global vectorizer\n",
        "  global vectors\n",
        "  vectorizer = CountVectorizer(analyzer='word',tokenizer=dummy_function,preprocessor=dummy_function,token_pattern=None)\n",
        "  vectors = vectorizer.fit_transform(df)\n",
        "  return vectors\n",
        "\n",
        "get_count_vec_df = FunctionTransformer(convert_to_count_vec, validate=False)"
      ],
      "execution_count": 0,
      "outputs": []
    },
    {
      "cell_type": "markdown",
      "metadata": {
        "id": "rhH3QqK2KgkJ",
        "colab_type": "text"
      },
      "source": [
        "# **Implementing Pipeline and Fitting the SKLEARN LDA Model**"
      ]
    },
    {
      "cell_type": "code",
      "metadata": {
        "id": "-zmYdumH5O1R",
        "colab_type": "code",
        "colab": {
          "base_uri": "https://localhost:8080/",
          "height": 86
        },
        "outputId": "9c6ec899-1e5d-4513-ed31-3b49dedb086a"
      },
      "source": [
        "# LDA Pipeline\n",
        "number_topics = 5\n",
        "number_words = 10\n",
        "# Create LDA model\n",
        "lda = LDA(n_components=number_topics, n_jobs=-1)\n",
        "LDA_pipeline = Pipeline(memory=None,steps=[('Extract_Body',get_html_body),('Tokenize',get_tokens),('Corpus_DataFrame',get_count_vec_df),(\"LDA_model\",lda)],verbose=True)\n",
        "\n",
        "# LDA Model fit on the Body of Articles\n",
        "lda_model = LDA_pipeline.fit(articles['Body'])"
      ],
      "execution_count": 7,
      "outputs": [
        {
          "output_type": "stream",
          "text": [
            "[Pipeline] ...... (step 1 of 4) Processing Extract_Body, total=   1.2s\n",
            "[Pipeline] .......... (step 2 of 4) Processing Tokenize, total=   2.7s\n",
            "[Pipeline] .. (step 3 of 4) Processing Corpus_DataFrame, total=   0.3s\n",
            "[Pipeline] ......... (step 4 of 4) Processing LDA_model, total=   6.6s\n"
          ],
          "name": "stdout"
        }
      ]
    },
    {
      "cell_type": "code",
      "metadata": {
        "id": "j2r6AO2GsEuh",
        "colab_type": "code",
        "colab": {
          "base_uri": "https://localhost:8080/",
          "height": 190
        },
        "outputId": "4d08d4e4-c37d-4015-e090-989ba66c8ad9"
      },
      "source": [
        "# Printing the topics in LDA model for Body of the articles\n",
        "\n",
        "def print_topics(model, vectorizer, top_words):\n",
        "    words = vectorizer.get_feature_names()\n",
        "    for topic_idx, topic in enumerate(model.components_):\n",
        "        print(\"Topic #%d:\" % topic_idx)\n",
        "        print(\" \".join([words[i] for i in topic.argsort()[:-top_words - 1:-1]]))\n",
        "        \n",
        "print_topics(lda_model.named_steps['LDA_model'], vectorizer, number_words)"
      ],
      "execution_count": 8,
      "outputs": [
        {
          "output_type": "stream",
          "text": [
            "Topic #0:\n",
            "mehr standard wurde sei gibt euro schon zwei sagte wurden\n",
            "Topic #1:\n",
            "spö fpö mehr eu övp wurde sei schon koalition immer\n",
            "Topic #2:\n",
            "prozent wien österreich wurde fpö mehr sei zwei menschen spö\n",
            "Topic #3:\n",
            "mehr österreich wurde sei schon immer trainer seit zwei neue\n",
            "Topic #4:\n",
            "mehr prozent wurde sei euro zwei schon millionen apa laut\n"
          ],
          "name": "stdout"
        }
      ]
    },
    {
      "cell_type": "markdown",
      "metadata": {
        "id": "ZQ7eMfA6KqVj",
        "colab_type": "text"
      },
      "source": [
        "# **Predicting the Topic for each body of the article**"
      ]
    },
    {
      "cell_type": "code",
      "metadata": {
        "id": "zfuesi3k82cy",
        "colab_type": "code",
        "colab": {}
      },
      "source": [
        "# Getting the TOP Topic Predicted for each row\n",
        "topics = []\n",
        "words = vectorizer.get_feature_names()\n",
        "for topic_idx, topic in enumerate(lda_model.named_steps['LDA_model'].components_):\n",
        "    topics.append(\" \".join([words[i] for i in topic.argsort()[:-number_words - 1:-1]]))\n",
        "feature_names = vectorizer.get_feature_names()    \n",
        "probabs = lda_model.named_steps['LDA_model'].transform(pd.DataFrame((vectors.todense()).tolist(),columns = feature_names))\n",
        "top_topics = []\n",
        "for probs in probabs:\n",
        "  top_topics.append(topics[np.argmax(probs)])"
      ],
      "execution_count": 0,
      "outputs": []
    },
    {
      "cell_type": "markdown",
      "metadata": {
        "id": "4719DrKkKyGr",
        "colab_type": "text"
      },
      "source": [
        "# **Cosine Similarity to get the Accuracy of the Model**"
      ]
    },
    {
      "cell_type": "code",
      "metadata": {
        "id": "i_eTizNRBum7",
        "colab_type": "code",
        "colab": {}
      },
      "source": [
        "# Convert Titles and Predicted Titles to Vetors to Calculating Cosine Similarity\n",
        "tfidf_vectorizer = TfidfVectorizer(analyzer='word')\n",
        "actual_title_vectors = tfidf_vectorizer.fit_transform(articles['Title'])\n",
        "predicted_title_vectors = tfidf_vectorizer.transform(top_topics)"
      ],
      "execution_count": 0,
      "outputs": []
    },
    {
      "cell_type": "code",
      "metadata": {
        "id": "09sScS6PFy88",
        "colab_type": "code",
        "colab": {}
      },
      "source": [
        "# Converting Vectors to List\n",
        "actual_title_list = actual_title_vectors.todense().tolist()\n",
        "predicted_title_list = predicted_title_vectors.todense().tolist()"
      ],
      "execution_count": 0,
      "outputs": []
    },
    {
      "cell_type": "code",
      "metadata": {
        "id": "b-NlCSNVFyMV",
        "colab_type": "code",
        "colab": {}
      },
      "source": [
        "# Calculating Cosine Similarity between actual and predicted titles\n",
        "cosine_similarities = []\n",
        "for i in range(len(top_topics)):\n",
        "  cosine_similarities.append(scipy.spatial.distance.cosine(actual_title_list[i], predicted_title_list[i]))"
      ],
      "execution_count": 0,
      "outputs": []
    },
    {
      "cell_type": "markdown",
      "metadata": {
        "id": "aCTIfDG0K6V1",
        "colab_type": "text"
      },
      "source": [
        "# **Accuracy of the Model: Between Actual and Predicted Titles**"
      ]
    },
    {
      "cell_type": "code",
      "metadata": {
        "id": "wdOjudhzGyhr",
        "colab_type": "code",
        "colab": {
          "base_uri": "https://localhost:8080/",
          "height": 34
        },
        "outputId": "bf5b58d6-f7b8-407b-aaf7-1f7c1b85ea0d"
      },
      "source": [
        "# Accuracy of the model by counting the cosine similarity values of 1\n",
        "count = 0\n",
        "for i in cosine_similarities:\n",
        "  if i > 0.9:\n",
        "    count = count + 1\n",
        "accuracy = (count/len(cosine_similarities))*100\n",
        "print(\"Accuracy of the model: \",accuracy)"
      ],
      "execution_count": 13,
      "outputs": [
        {
          "output_type": "stream",
          "text": [
            "Accuracy of the model:  95.0\n"
          ],
          "name": "stdout"
        }
      ]
    },
    {
      "cell_type": "markdown",
      "metadata": {
        "id": "RphlJIpaLA_c",
        "colab_type": "text"
      },
      "source": [
        "# **PyLDAvis Implementation**\n",
        "\n"
      ]
    },
    {
      "cell_type": "code",
      "metadata": {
        "id": "ntRZ4f36K9CE",
        "colab_type": "code",
        "colab": {}
      },
      "source": [
        "LDAvis = sklearn_lda.prepare(lda_model.named_steps['LDA_model'], vectors, vectorizer)"
      ],
      "execution_count": 0,
      "outputs": []
    },
    {
      "cell_type": "code",
      "metadata": {
        "id": "ldL1hlqlqN_I",
        "colab_type": "code",
        "colab": {}
      },
      "source": [
        "# Download the HTML file to view Visualization of Topic Models by pyLDAvis\n",
        "pyLDAvis.save_html(LDAvis, './J045_ldavis'+ str(number_topics) +'.html')"
      ],
      "execution_count": 0,
      "outputs": []
    },
    {
      "cell_type": "code",
      "metadata": {
        "id": "_7JqLafMphM_",
        "colab_type": "code",
        "colab": {
          "base_uri": "https://localhost:8080/",
          "height": 881
        },
        "outputId": "4800c477-042b-452b-89da-745a6b74c679"
      },
      "source": [
        "pyLDAvis.display(LDAvis)"
      ],
      "execution_count": 144,
      "outputs": [
        {
          "output_type": "execute_result",
          "data": {
            "text/html": [
              "\n",
              "<link rel=\"stylesheet\" type=\"text/css\" href=\"https://cdn.rawgit.com/bmabey/pyLDAvis/files/ldavis.v1.0.0.css\">\n",
              "\n",
              "\n",
              "<div id=\"ldavis_el1201404415104418724278724665\"></div>\n",
              "<script type=\"text/javascript\">\n",
              "\n",
              "var ldavis_el1201404415104418724278724665_data = {\"mdsDat\": {\"x\": [0.11251373181112398, -0.028542681670267495, -0.002518115067704491, -0.02655308127649534, -0.05489985379665671], \"y\": [0.030258962015894248, -0.021419602448619315, -0.06695970568149096, -0.03505638499590062, 0.09317673111011657], \"topics\": [1, 2, 3, 4, 5], \"cluster\": [1, 1, 1, 1, 1], \"Freq\": [26.658613258328124, 21.05952891459795, 20.34330650167541, 17.697889059774425, 14.24066226562409]}, \"tinfo\": {\"Category\": [\"Default\", \"Default\", \"Default\", \"Default\", \"Default\", \"Default\", \"Default\", \"Default\", \"Default\", \"Default\", \"Default\", \"Default\", \"Default\", \"Default\", \"Default\", \"Default\", \"Default\", \"Default\", \"Default\", \"Default\", \"Default\", \"Default\", \"Default\", \"Default\", \"Default\", \"Default\", \"Default\", \"Default\", \"Default\", \"Default\", \"Topic1\", \"Topic1\", \"Topic1\", \"Topic1\", \"Topic1\", \"Topic1\", \"Topic1\", \"Topic1\", \"Topic1\", \"Topic1\", \"Topic1\", \"Topic1\", \"Topic1\", \"Topic1\", \"Topic1\", \"Topic1\", \"Topic1\", \"Topic1\", \"Topic1\", \"Topic1\", \"Topic1\", \"Topic1\", \"Topic1\", \"Topic1\", \"Topic1\", \"Topic1\", \"Topic1\", \"Topic1\", \"Topic1\", \"Topic1\", \"Topic1\", \"Topic1\", \"Topic1\", \"Topic1\", \"Topic1\", \"Topic1\", \"Topic1\", \"Topic1\", \"Topic1\", \"Topic1\", \"Topic1\", \"Topic1\", \"Topic1\", \"Topic1\", \"Topic1\", \"Topic1\", \"Topic1\", \"Topic1\", \"Topic1\", \"Topic1\", \"Topic1\", \"Topic1\", \"Topic1\", \"Topic1\", \"Topic1\", \"Topic1\", \"Topic1\", \"Topic1\", \"Topic1\", \"Topic1\", \"Topic1\", \"Topic1\", \"Topic1\", \"Topic1\", \"Topic1\", \"Topic1\", \"Topic1\", \"Topic1\", \"Topic1\", \"Topic1\", \"Topic1\", \"Topic1\", \"Topic1\", \"Topic1\", \"Topic1\", \"Topic1\", \"Topic1\", \"Topic1\", \"Topic1\", \"Topic1\", \"Topic1\", \"Topic1\", \"Topic2\", \"Topic2\", \"Topic2\", \"Topic2\", \"Topic2\", \"Topic2\", \"Topic2\", \"Topic2\", \"Topic2\", \"Topic2\", \"Topic2\", \"Topic2\", \"Topic2\", \"Topic2\", \"Topic2\", \"Topic2\", \"Topic2\", \"Topic2\", \"Topic2\", \"Topic2\", \"Topic2\", \"Topic2\", \"Topic2\", \"Topic2\", \"Topic2\", \"Topic2\", \"Topic2\", \"Topic2\", \"Topic2\", \"Topic2\", \"Topic2\", \"Topic2\", \"Topic2\", \"Topic2\", \"Topic2\", \"Topic2\", \"Topic2\", \"Topic2\", \"Topic2\", \"Topic2\", \"Topic2\", \"Topic2\", \"Topic2\", \"Topic2\", \"Topic2\", \"Topic2\", \"Topic2\", \"Topic2\", \"Topic2\", \"Topic2\", \"Topic2\", \"Topic2\", \"Topic2\", \"Topic2\", \"Topic2\", \"Topic2\", \"Topic2\", \"Topic2\", \"Topic2\", \"Topic2\", \"Topic2\", \"Topic2\", \"Topic2\", \"Topic2\", \"Topic2\", \"Topic2\", \"Topic2\", \"Topic2\", \"Topic2\", \"Topic2\", \"Topic2\", \"Topic3\", \"Topic3\", \"Topic3\", \"Topic3\", \"Topic3\", \"Topic3\", \"Topic3\", \"Topic3\", \"Topic3\", \"Topic3\", \"Topic3\", \"Topic3\", \"Topic3\", \"Topic3\", \"Topic3\", \"Topic3\", \"Topic3\", \"Topic3\", \"Topic3\", \"Topic3\", \"Topic3\", \"Topic3\", \"Topic3\", \"Topic3\", \"Topic3\", \"Topic3\", \"Topic3\", \"Topic3\", \"Topic3\", \"Topic3\", \"Topic3\", \"Topic3\", \"Topic3\", \"Topic3\", \"Topic3\", \"Topic3\", \"Topic3\", \"Topic3\", \"Topic3\", \"Topic3\", \"Topic3\", \"Topic3\", \"Topic3\", \"Topic3\", \"Topic3\", \"Topic3\", \"Topic3\", \"Topic3\", \"Topic3\", \"Topic3\", \"Topic3\", \"Topic3\", \"Topic3\", \"Topic3\", \"Topic3\", \"Topic3\", \"Topic3\", \"Topic3\", \"Topic3\", \"Topic3\", \"Topic3\", \"Topic3\", \"Topic3\", \"Topic3\", \"Topic3\", \"Topic3\", \"Topic3\", \"Topic3\", \"Topic3\", \"Topic3\", \"Topic3\", \"Topic3\", \"Topic3\", \"Topic3\", \"Topic3\", \"Topic3\", \"Topic3\", \"Topic3\", \"Topic3\", \"Topic3\", \"Topic3\", \"Topic3\", \"Topic4\", \"Topic4\", \"Topic4\", \"Topic4\", \"Topic4\", \"Topic4\", \"Topic4\", \"Topic4\", \"Topic4\", \"Topic4\", \"Topic4\", \"Topic4\", \"Topic4\", \"Topic4\", \"Topic4\", \"Topic4\", \"Topic4\", \"Topic4\", \"Topic4\", \"Topic4\", \"Topic4\", \"Topic4\", \"Topic4\", \"Topic4\", \"Topic4\", \"Topic4\", \"Topic4\", \"Topic4\", \"Topic4\", \"Topic4\", \"Topic4\", \"Topic4\", \"Topic4\", \"Topic4\", \"Topic4\", \"Topic4\", \"Topic4\", \"Topic4\", \"Topic4\", \"Topic4\", \"Topic4\", \"Topic4\", \"Topic4\", \"Topic4\", \"Topic4\", \"Topic4\", \"Topic4\", \"Topic4\", \"Topic4\", \"Topic4\", \"Topic4\", \"Topic4\", \"Topic4\", \"Topic4\", \"Topic4\", \"Topic4\", \"Topic4\", \"Topic4\", \"Topic4\", \"Topic4\", \"Topic4\", \"Topic4\", \"Topic4\", \"Topic4\", \"Topic4\", \"Topic4\", \"Topic4\", \"Topic4\", \"Topic4\", \"Topic4\", \"Topic4\", \"Topic4\", \"Topic4\", \"Topic4\", \"Topic4\", \"Topic5\", \"Topic5\", \"Topic5\", \"Topic5\", \"Topic5\", \"Topic5\", \"Topic5\", \"Topic5\", \"Topic5\", \"Topic5\", \"Topic5\", \"Topic5\", \"Topic5\", \"Topic5\", \"Topic5\", \"Topic5\", \"Topic5\", \"Topic5\", \"Topic5\", \"Topic5\", \"Topic5\", \"Topic5\", \"Topic5\", \"Topic5\", \"Topic5\", \"Topic5\", \"Topic5\", \"Topic5\", \"Topic5\", \"Topic5\", \"Topic5\", \"Topic5\", \"Topic5\", \"Topic5\", \"Topic5\", \"Topic5\", \"Topic5\", \"Topic5\", \"Topic5\", \"Topic5\", \"Topic5\", \"Topic5\", \"Topic5\", \"Topic5\", \"Topic5\", \"Topic5\", \"Topic5\", \"Topic5\", \"Topic5\", \"Topic5\", \"Topic5\", \"Topic5\", \"Topic5\", \"Topic5\", \"Topic5\", \"Topic5\", \"Topic5\", \"Topic5\", \"Topic5\", \"Topic5\", \"Topic5\", \"Topic5\", \"Topic5\", \"Topic5\", \"Topic5\", \"Topic5\", \"Topic5\", \"Topic5\", \"Topic5\", \"Topic5\", \"Topic5\"], \"Freq\": [250.0, 153.0, 281.0, 299.0, 198.0, 314.0, 94.0, 63.0, 78.0, 66.0, 79.0, 34.0, 127.0, 49.0, 36.0, 28.0, 34.0, 100.0, 84.0, 547.0, 61.0, 61.0, 129.0, 24.0, 382.0, 55.0, 23.0, 39.0, 39.0, 27.0, 47.92957457490561, 22.605648010191537, 21.743929549710426, 21.743929301080414, 17.429033451943592, 16.564863545184405, 15.703949077109156, 15.702121728531676, 14.84014411155859, 13.978240396573963, 13.978239987201576, 13.9776225782674, 13.115385521522134, 12.252531653235273, 12.252531617424212, 18.75393492700391, 28.568697986079286, 11.38967718456287, 37.26500487516892, 10.526822941059848, 10.526822905120566, 10.526822662184228, 11.314014042023258, 37.18223296575208, 10.489017226925146, 9.663968559050971, 9.66396834543907, 9.663968310415022, 9.660641456496784, 21.65487577880269, 62.103462261151485, 87.17392279771305, 37.2138625011876, 32.47506077421307, 36.66637119477349, 29.72701663306808, 31.90658596258214, 49.55151687218048, 17.428138720306286, 206.3306404422694, 224.9087279293347, 68.3649311221511, 22.602644521934383, 31.73141427716141, 69.38091483137089, 51.991054697624996, 147.5969799008427, 55.64604352081018, 23.17030019837534, 37.35413448401401, 91.30658320508498, 29.364756137329053, 59.24916069648332, 52.77576698350613, 179.5236036878502, 62.75569707164149, 215.79044633191816, 137.62135545571888, 102.22843170947102, 66.23963431986493, 134.18412541028613, 151.5069025934821, 158.08060008379695, 189.5915129811036, 106.55493914238231, 155.9255982630887, 60.98462577793822, 109.36616624978586, 104.00104923833024, 78.35709494049739, 95.80931346329487, 96.59459441008893, 97.4433182706962, 101.51091228114485, 78.94414506824405, 76.87032387780688, 80.8183482657929, 76.40609572185456, 78.23118127560029, 78.11127484794714, 78.29970164288531, 75.79962304204204, 27.313517101754456, 22.37733908861102, 19.08655402518198, 18.263857569650817, 18.263276547911456, 14.972651042211671, 14.972497930451564, 14.150376212439985, 14.150376013864088, 13.327679906886596, 11.68228698371315, 11.68191748039703, 10.859591068390703, 10.859590969605529, 10.859590900212677, 10.859590872212298, 10.036894766583861, 10.03689461113513, 9.214198355172726, 9.21419831046538, 9.214198177199105, 9.212992596668874, 12.227430465444936, 8.391502162838114, 8.391502035942418, 8.389203908318681, 7.568805717570477, 7.568805704119041, 7.568805697440796, 7.568805697440796, 14.966156632959782, 33.86447942278885, 10.859800136549108, 24.846337659754436, 18.264947396517243, 10.810451024842008, 28.85500234110042, 36.36333124458858, 180.5209524654071, 121.14283492191542, 82.60180290408495, 141.93805648908503, 166.31143185592953, 71.40258950082325, 100.25284479828403, 107.00034582102653, 128.15122373302944, 78.52815522127086, 70.5329585102475, 80.7399771981422, 83.93496662086807, 88.48560546620061, 83.34680568652249, 74.37653715907221, 91.26291360852623, 64.06629656129141, 84.06773046212258, 66.20356378388621, 46.51145603979312, 77.56038151734026, 73.03835475843057, 70.64437676687369, 68.20645521389572, 52.71063551514932, 80.1417923986112, 63.32129428633133, 64.25331892518888, 57.626706149733735, 63.99105526465599, 59.47815823760687, 59.883131369028526, 33.67992761704005, 18.964348187630236, 15.695500104835617, 14.060552164040082, 14.06048807150005, 13.24307801573178, 12.425604179346255, 12.42560417141676, 11.608130236014363, 11.608130044731631, 11.608129904147539, 11.607247477874292, 9.973182287122604, 9.97318226603251, 9.973182140960724, 9.973182107546517, 9.973181763172956, 9.155708381041196, 9.155708381041196, 9.155708381041196, 9.155708323615666, 9.15570830682104, 9.155708272374348, 9.155708227567937, 9.155708223626476, 9.155708192763456, 9.155708120540938, 9.155707644272182, 9.155186472212437, 9.15483081896569, 14.844666807122305, 14.878410277353087, 18.149478926237876, 18.147336319870835, 16.51378943174946, 13.52182056232347, 19.243147223410215, 11.491507076252876, 28.35184013849071, 15.997689964605732, 19.782979275405772, 40.32775405873571, 14.878215994095777, 121.92464138207974, 187.77742129822838, 17.515161284285362, 19.765973068498337, 38.028357415779546, 38.54335701261945, 120.94984878186885, 95.43266092833397, 78.26594528887361, 52.289639194612036, 60.34407818930438, 77.31637389280529, 73.86561864795786, 73.03359784917279, 73.31674170112032, 36.15834557967639, 95.58374912451383, 64.38453137007374, 81.89700035554796, 62.690610179951754, 71.42907093822848, 50.473042747297875, 68.8405650217045, 48.54697685014341, 46.31819961230959, 48.69076653419339, 52.74013228296495, 46.86119593494931, 51.08414594389146, 52.283892604101936, 62.13577486333237, 51.04142902646171, 49.8774632522129, 53.81845840069854, 53.687126029501684, 59.33891360839314, 53.72673305120949, 49.753671407286674, 48.88627578798038, 16.86485564981092, 14.478319441636275, 13.682807329916988, 12.887295246701221, 12.091783275254137, 12.091783275254137, 12.091783254253166, 12.091761615841122, 11.296271212793151, 10.500759129250262, 9.705246993438687, 9.703772790920311, 8.909735004140998, 8.909734941076806, 8.90973490982727, 8.90824049020436, 8.114222891642813, 8.114222865101034, 8.114222750723373, 7.3187109001363915, 7.318710754536667, 7.318710606415169, 7.31871055236295, 7.318689977059065, 7.3182425690615895, 24.023908146508365, 6.523198837472027, 6.523198816100079, 6.523198816100079, 6.523198788285518, 54.81590003148014, 10.501004905702816, 13.683625416149697, 12.887705570804771, 55.68169928114546, 19.005182906016106, 22.701097755089208, 22.700386523398794, 46.92587736686582, 11.295842493607596, 30.348429989161648, 23.231001116314072, 26.685898652695265, 132.32556058103202, 45.452186426304145, 73.20138151121151, 69.06908006063243, 66.68812572847796, 84.6023098707454, 35.70919353819675, 54.2551855093415, 72.84597484256628, 98.85109461704407, 48.0241715453193, 58.31131602999659, 32.279904638528954, 47.93029529716294, 34.92742838969395, 52.618070241070214, 46.92649131656016, 58.61397678510535, 72.98667339859142, 51.92184328762238, 54.350411528137435, 57.429401251251456, 55.898972555693206, 54.14150018433057, 53.81258785539763, 46.705792545194, 48.50804952792783, 58.82666318072211, 47.267193501758065, 49.389946008151526, 49.882010065205556, 47.41728881924275, 33.51741390292468, 27.450080166361257, 23.6593509214927, 18.35079193898393, 16.834538178467813, 16.07622563634498, 12.282365084871914, 11.526350409601518, 10.766920274804745, 11.47275978153541, 10.009725307714072, 10.009725218572687, 10.009725196716804, 10.00835351426408, 22.14325769255177, 9.251412801155446, 9.251412722456777, 9.250308112272133, 8.49295125299616, 7.734787784872147, 7.734787730523369, 7.734787688365106, 7.734787646332672, 7.734787517388542, 7.734787489833883, 7.731986519139316, 6.976475123321279, 6.976475123321279, 6.975604465971344, 6.975478417821246, 6.975478417821248, 32.10496597729931, 12.285724890112716, 11.527037877569521, 100.7149255436577, 9.94681976958134, 120.99030553446894, 9.252238404540643, 98.57906574045732, 16.40810633979685, 10.010541753184208, 13.04404707503244, 26.495047098789538, 46.51998189117597, 124.48041458041038, 90.86943453593855, 18.354068648381393, 64.02714877603273, 53.87472372529119, 65.8122062309695, 85.86028453319203, 51.22381909903427, 61.01828305057142, 46.608088512207345, 65.75271647312069, 40.35295388617805, 43.339269424344245, 47.320656177377316, 35.351990503349064, 51.55150141393737, 46.361811144946394, 49.04904603839701, 45.64036890142696, 40.144152913905046, 39.62285368893463, 38.91203269648441, 36.82319536930341, 35.80829070830203, 34.992724560911874, 35.56140060462359, 33.8831805850271], \"Term\": [\"fp\\u00f6\", \"apple\", \"sp\\u00f6\", \"standard\", \"\\u00f6vp\", \"eu\", \"fl\\u00fcchtlinge\", \"android\", \"app\", \"moskau\", \"faymann\", \"\\u00f6sv\", \"google\", \"niessl\", \"ios\", \"ablinger\", \"drusen\", \"griechenland\", \"koalition\", \"prozent\", \"fifa\", \"ukraine\", \"russland\", \"schr\\u00f6cksnadel\", \"euro\", \"burgenland\", \"fenninger\", \"mikl\", \"fl\\u00fcchtlingen\", \"quijote\", \"niessl\", \"elmau\", \"flassbeck\", \"trump\", \"separatisten\", \"zelte\", \"coudenhove\", \"gazastreifen\", \"gipfels\", \"burschenarbeit\", \"garmisch\", \"abbas\", \"partenkirchen\", \"kalergi\", \"achaleke\", \"dragovic\", \"hamas\", \"hodges\", \"mikl\", \"hatoyama\", \"dastandard\", \"verteilung\", \"brickner\", \"fl\\u00fcchtlingen\", \"pr\\u00f6dl\", \"gelsen\", \"olg\", \"marino\", \"caritas\", \"osze\", \"moskau\", \"fl\\u00fcchtlinge\", \"gipfel\", \"h\\u00e4upl\", \"kiew\", \"demonstranten\", \"asylwerber\", \"burgenland\", \"kasernen\", \"fp\\u00f6\", \"sp\\u00f6\", \"faymann\", \"innenministerin\", \"asyl\", \"koalition\", \"ukraine\", \"\\u00f6vp\", \"rot\", \"schelling\", \"landeshauptmann\", \"russland\", \"leitner\", \"g\", \"staaten\", \"\\u00f6sterreich\", \"griechenland\", \"sei\", \"eu\", \"regierung\", \"europa\", \"sagte\", \"schon\", \"prozent\", \"mehr\", \"menschen\", \"wurde\", \"partei\", \"gibt\", \"apa\", \"wiener\", \"bereits\", \"seit\", \"wien\", \"zwei\", \"seien\", \"m\\u00fcssen\", \"etwa\", \"sagt\", \"jahr\", \"wurden\", \"immer\", \"standard\", \"quijote\", \"mensdorff\", \"breguet\", \"pouilly\", \"hdp\", \"par\", \"vodafone\", \"quantenmechanik\", \"murdoch\", \"reiners\", \"mers\", \"ametsreiter\", \"mancha\", \"mehi\\u0107\", \"stoss\", \"konventionalstrafe\", \"cervantes\", \"essst\\u00f6rungen\", \"fischsauce\", \"infineon\", \"verwaltungsrat\", \"erdo\\u011fan\", \"wiesberger\", \"ritter\", \"gelato\", \"maiziere\", \"cut\", \"waldherr\", \"steier\", \"amtsleiter\", \"aut\", \"telekom\", \"orange\", \"don\", \"akp\", \"di\\u00e4t\", \"mio\", \"fifa\", \"prozent\", \"euro\", \"us\", \"sei\", \"mehr\", \"millionen\", \"wien\", \"zwei\", \"wurde\", \"ab\", \"rund\", \"menschen\", \"jahren\", \"sagte\", \"apa\", \"jahr\", \"\\u00f6sterreich\", \"neuen\", \"gibt\", \"drei\", \"google\", \"seit\", \"bereits\", \"etwa\", \"neue\", \"unternehmen\", \"schon\", \"dabei\", \"beim\", \"jahre\", \"immer\", \"laut\", \"wurden\", \"drusen\", \"festplattenabgabe\", \"schily\", \"pekoll\", \"chile\", \"blackhawks\", \"baumeister\", \"amador\", \"cassegrain\", \"tampa\", \"nhl\", \"admira\", \"khm\", \"rathkolb\", \"stanley\", \"usbekistan\", \"merlicek\", \"bronx\", \"ghetto\", \"melendez\", \"nusra\", \"burg\", \"downhill\", \"fabasoft\", \"fidschi\", \"sambo\", \"b\\u00f6hler\", \"barcroft\", \"k\\u00fcnstlern\", \"gazprom\", \"ezb\", \"omv\", \"chicago\", \"heta\", \"pool\", \"heraf\", \"bundesliga\", \"syriza\", \"tsipras\", \"argentinien\", \"blatter\", \"ex\", \"prager\", \"euro\", \"mehr\", \"rapid\", \"mannschaft\", \"facebook\", \"spiel\", \"wurde\", \"zwei\", \"bereits\", \"vier\", \"millionen\", \"seit\", \"immer\", \"jahren\", \"apa\", \"team\", \"sei\", \"beim\", \"schon\", \"laut\", \"wien\", \"zeit\", \"sagte\", \"erst\", \"sollen\", \"juni\", \"sagt\", \"ende\", \"neuen\", \"worden\", \"gibt\", \"viele\", \"jahre\", \"ab\", \"jahr\", \"prozent\", \"\\u00f6sterreich\", \"standard\", \"drei\", \"rindt\", \"tastaturen\", \"bekmuratov\", \"sparks\", \"hugus\", \"chinetti\", \"switches\", \"staudinger\", \"mans\", \"razer\", \"coc\", \"lm\", \"cherry\", \"ringler\", \"schwertsik\", \"nexus\", \"timraliyev\", \"konf\\u00f6derierten\", \"miklau\", \"masten\", \"bentley\", \"murer\", \"reda\", \"fma\", \"kerry\", \"tastatur\", \"ed\", \"mechanische\", \"steel\", \"fahrr\\u00e4der\", \"android\", \"herrengasse\", \"flagge\", \"badawi\", \"app\", \"spotify\", \"lopatka\", \"apps\", \"orf\", \"deloitte\", \"m\", \"alijew\", \"plus\", \"wurde\", \"google\", \"wurden\", \"etwa\", \"beim\", \"schon\", \"personen\", \"worden\", \"zwei\", \"mehr\", \"juni\", \"menschen\", \"uhr\", \"allerdings\", \"damals\", \"dabei\", \"ersten\", \"immer\", \"sei\", \"ab\", \"jahren\", \"euro\", \"gibt\", \"seit\", \"wien\", \"geht\", \"neue\", \"prozent\", \"laut\", \"apa\", \"sagte\", \"\\u00f6sterreich\", \"\\u00f6sv\", \"ablinger\", \"schr\\u00f6cksnadel\", \"os\", \"wlaschek\", \"albrecht\", \"vranitzky\", \"gajeta\", \"rosetta\", \"ipad\", \"hyksos\", \"mbit\", \"cook\", \"wwdc\", \"fenninger\", \"jablonka\", \"ahmeti\", \"philae\", \"mathiaschitz\", \"familienserien\", \"kirigin\", \"frausein\", \"uhf\", \"drohne\", \"identit\\u00e4ren\", \"intel\", \"boko\", \"haram\", \"capitan\", \"agenturmeldungen\", \"volltext\", \"ios\", \"fritsch\", \"damm\", \"apple\", \"kometen\", \"standard\", \"athleten\", \"eu\", \"x\", \"billa\", \"kulterer\", \"hypo\", \"frauen\", \"mehr\", \"prozent\", \"mercedes\", \"immer\", \"geht\", \"gibt\", \"wurde\", \"neue\", \"schon\", \"laut\", \"sei\", \"daf\\u00fcr\", \"dabei\", \"jahren\", \"ja\", \"zwei\", \"seit\", \"\\u00f6sterreich\", \"wien\", \"jahr\", \"wurden\", \"ab\", \"sagt\", \"jahre\", \"allerdings\", \"etwa\", \"unternehmen\"], \"Total\": [250.0, 153.0, 281.0, 299.0, 198.0, 314.0, 94.0, 63.0, 78.0, 66.0, 79.0, 34.0, 127.0, 49.0, 36.0, 28.0, 34.0, 100.0, 84.0, 547.0, 61.0, 61.0, 129.0, 24.0, 382.0, 55.0, 23.0, 39.0, 39.0, 27.0, 49.06309213911519, 23.24552332477743, 22.382728723028386, 22.382728703688123, 18.06842787530063, 17.205483023643463, 16.34274823434641, 16.342617028350315, 15.479844378178546, 14.617039525297525, 14.617039493226889, 14.617010753360184, 13.754185128837586, 12.89133081134083, 12.891330808467773, 19.74904398038611, 30.10461441089691, 12.028476446741953, 39.50388949604122, 11.165622099819347, 11.165622096936007, 11.165622078020064, 12.024414001587951, 39.552293402233616, 11.16268027021688, 10.302767742067896, 10.302767725281022, 10.302767722646427, 10.3025548252253, 23.201280334319872, 66.91342247090483, 94.53431234829831, 40.275582760858285, 35.15868494708843, 40.353015775328444, 32.55611808688648, 35.102916071761435, 55.60614108919861, 18.826707838167735, 250.6392106278187, 281.36688543862437, 79.5384014010618, 24.836129987684924, 35.84787496802731, 84.08345173670561, 61.55520494623168, 198.73791950158363, 68.79048877642764, 25.699548965312605, 45.079323866544186, 129.5599672017669, 34.18052541618772, 83.7043971964325, 73.28681483765739, 420.97958520522565, 100.14733590272044, 592.0516418172291, 314.65921641068013, 207.23795382814174, 115.45226893270709, 364.91279415154963, 459.16628826895806, 547.6365638742578, 767.0118753327159, 297.32760140373955, 623.2125158922111, 109.96106458397593, 377.2808503619035, 340.68020673683026, 197.50381896360503, 312.3020168963836, 351.97466114951146, 368.5781907640333, 428.341395287009, 217.18048588541367, 201.83457438847603, 298.3957342460005, 240.4394660567788, 283.2834522813458, 291.2143131732041, 338.79750111663725, 299.04660732443625, 27.960347796276988, 23.024169981747903, 19.73338477890064, 18.91068847352596, 18.910684783484953, 15.619889345591629, 15.619885427982904, 14.797206969195315, 14.797206964274016, 13.97451066767989, 12.329118056576414, 12.329106598127758, 11.506421764438628, 11.506421761977036, 11.50642176045391, 11.506421759596456, 10.683725462843212, 10.683725458907068, 9.86102915851514, 9.86102915745638, 9.861029154108225, 9.861021496353207, 13.14264322001085, 9.038332859649039, 9.038332856532715, 9.038444980136903, 8.215636554623542, 8.215636554080437, 8.215636554016841, 8.215636554016841, 16.43733332911386, 38.54800061606251, 12.323897055510217, 31.262839200095573, 22.362042067840346, 12.323583802363123, 43.08946995550703, 61.58429266374116, 547.6365638742578, 382.463297133575, 226.9569845247886, 592.0516418172291, 767.0118753327159, 217.60641986149, 368.5781907640333, 428.341395287009, 623.2125158922111, 282.8298830804494, 237.4735915306598, 297.32760140373955, 332.76858148857286, 364.91279415154963, 340.68020673683026, 283.2834522813458, 420.97958520522565, 226.63773865838206, 377.2808503619035, 249.05148050595054, 127.94232191734699, 351.97466114951146, 312.3020168963836, 298.3957342460005, 284.890587805518, 167.6926985603319, 459.16628826895806, 266.31152323997105, 286.9954011443772, 220.92476668612034, 338.79750111663725, 278.2860165747616, 291.2143131732041, 34.327802932990686, 19.6132431834985, 16.343375420651043, 14.708427465294008, 14.70843100340169, 13.890953484562889, 13.073479509132065, 13.073479508937838, 12.256005531732791, 12.256005528645124, 12.256005526273187, 12.256054514833911, 10.621057576409273, 10.621057576083762, 10.621057573875172, 10.621057573428395, 10.621057567246124, 9.803583599741662, 9.803583599741662, 9.803583599741662, 9.80358359885409, 9.803583598542152, 9.803583597904845, 9.80358359687788, 9.803583597104257, 9.803583596613718, 9.803583595190034, 9.803583586613204, 9.803569581136502, 9.803632265495764, 16.28722507543707, 16.388734408976127, 20.48131547800169, 21.829328320180185, 19.669071215269852, 15.601188338421503, 25.339032272388902, 13.125326990175878, 43.75654163357011, 20.522165952555117, 27.83501131428767, 75.95065601227277, 19.31759711432218, 382.463297133575, 767.0118753327159, 25.52859048085236, 31.729062386044923, 92.924398505372, 95.10921093520999, 623.2125158922111, 428.341395287009, 312.3020168963836, 164.84576358315744, 217.60641986149, 351.97466114951146, 338.79750111663725, 332.76858148857286, 340.68020673683026, 93.42414865458285, 592.0516418172291, 286.9954011443772, 459.16628826895806, 278.2860165747616, 368.5781907640333, 187.74028209596102, 364.91279415154963, 185.33305570460666, 174.58134104389603, 198.93426749613403, 240.4394660567788, 184.04375283781607, 226.63773865838206, 241.49593278141788, 377.2808503619035, 231.18849966378315, 220.92476668612034, 282.8298830804494, 283.2834522813458, 547.6365638742578, 420.97958520522565, 299.04660732443625, 249.05148050595054, 17.517123157300716, 15.13058697059446, 14.33507490907242, 13.539562847038669, 12.744050783164582, 12.744050783164582, 12.744050783528174, 12.744049803274567, 11.948538720809138, 11.153026658818666, 10.357514597606626, 10.357445670444054, 9.562002534110931, 9.56200253513082, 9.562002535552216, 9.562128994273133, 8.766490472602024, 8.766490473079209, 8.766490475108629, 7.9709784090376905, 7.970978411500217, 7.970978413923082, 7.970978414797061, 7.970977463914221, 7.971018025968009, 26.193419948316873, 7.175466346685592, 7.175466347055605, 7.175466347055605, 7.175466347522105, 63.7253738689033, 11.911380314920962, 16.020564552372402, 15.17449946756088, 78.67192474380857, 24.794654832395082, 33.41706240082085, 33.467835832800624, 92.25768507607677, 14.223496857975555, 56.698144831541356, 40.235885331962905, 49.995778663255415, 623.2125158922111, 127.94232191734699, 291.2143131732041, 298.3957342460005, 286.9954011443772, 459.16628826895806, 107.2790516684216, 241.49593278141788, 428.341395287009, 767.0118753327159, 198.93426749613403, 297.32760140373955, 92.78592139065256, 218.04356951668768, 113.30598627780954, 266.31152323997105, 210.10164043008984, 338.79750111663725, 592.0516418172291, 282.8298830804494, 332.76858148857286, 382.463297133575, 377.2808503619035, 351.97466114951146, 368.5781907640333, 250.18410137538217, 284.890587805518, 547.6365638742578, 278.2860165747616, 340.68020673683026, 364.91279415154963, 420.97958520522565, 34.177121425096814, 28.110736029478236, 24.31905846454063, 19.010900144497413, 17.494245638046383, 16.73593310305889, 12.944687204725334, 12.186057890860466, 11.427834203051214, 12.190207486279501, 10.669432822347416, 10.669432829895854, 10.669432831698087, 10.66954017427778, 23.665214414449782, 9.9111202843633, 9.911120291176934, 9.911209394364217, 9.152821759804619, 8.394495208648015, 8.394495213208026, 8.394495216789636, 8.39449522024915, 8.394495231152638, 8.394495233614972, 8.394716653913965, 7.636182683733898, 7.636182683733898, 7.6362566057583665, 7.636288652943387, 7.6362886529433895, 36.66809126143736, 13.761761559869042, 12.981823934014562, 153.38520251987475, 11.497461178015527, 299.04660732443625, 10.773860762342247, 314.65921641068013, 24.87970160100579, 12.287577708659562, 18.497658582472738, 57.484975372028586, 144.36928319239024, 767.0118753327159, 547.6365638742578, 33.82264459092946, 338.79750111663725, 250.18410137538217, 377.2808503619035, 623.2125158922111, 284.890587805518, 459.16628826895806, 278.2860165747616, 592.0516418172291, 210.1202314007639, 266.31152323997105, 332.76858148857286, 167.48695836866904, 428.341395287009, 351.97466114951146, 420.97958520522565, 368.5781907640333, 283.2834522813458, 291.2143131732041, 282.8298830804494, 240.4394660567788, 220.92476668612034, 218.04356951668768, 298.3957342460005, 167.6926985603319], \"loglift\": [30.0, 29.0, 28.0, 27.0, 26.0, 25.0, 24.0, 23.0, 22.0, 21.0, 20.0, 19.0, 18.0, 17.0, 16.0, 15.0, 14.0, 13.0, 12.0, 11.0, 10.0, 9.0, 8.0, 7.0, 6.0, 5.0, 4.0, 3.0, 2.0, 1.0, 1.2987, 1.2941, 1.2931, 1.2931, 1.286, 1.2841, 1.2822, 1.2821, 1.2799, 1.2774, 1.2774, 1.2773, 1.2745, 1.2712, 1.2712, 1.2704, 1.2697, 1.2675, 1.2637, 1.2631, 1.2631, 1.2631, 1.2612, 1.2603, 1.2598, 1.258, 1.258, 1.258, 1.2577, 1.2531, 1.2475, 1.241, 1.243, 1.2427, 1.2263, 1.2311, 1.2266, 1.2068, 1.2449, 1.1275, 1.0981, 1.1707, 1.2278, 1.2001, 1.1299, 1.1532, 1.0246, 1.11, 1.2185, 1.1341, 0.9721, 1.1702, 0.9765, 0.9937, 0.4698, 0.8547, 0.3128, 0.4951, 0.6154, 0.7665, 0.3216, 0.2133, 0.0796, -0.0756, 0.2959, -0.0635, 0.7326, 0.0838, 0.1355, 0.3976, 0.1404, 0.029, -0.0083, -0.1177, 0.3101, 0.3567, 0.0158, 0.1757, 0.0353, 0.0061, -0.1428, -0.0504, 1.5344, 1.5293, 1.5245, 1.523, 1.523, 1.5155, 1.5155, 1.5131, 1.5131, 1.5104, 1.5039, 1.5039, 1.5, 1.5, 1.5, 1.5, 1.4954, 1.4954, 1.49, 1.49, 1.49, 1.4898, 1.4856, 1.4836, 1.4836, 1.4833, 1.4758, 1.4758, 1.4758, 1.4758, 1.4641, 1.4283, 1.4313, 1.3281, 1.3554, 1.4268, 1.1568, 1.031, 0.4481, 0.4082, 0.5471, 0.1296, 0.0292, 0.4435, 0.2559, 0.1707, -0.0239, 0.2764, 0.3438, 0.2542, 0.1804, 0.141, 0.1499, 0.2205, 0.029, 0.2944, 0.0564, 0.2329, 0.5459, 0.0453, 0.1048, 0.1171, 0.1283, 0.4005, -0.1878, 0.1214, 0.0612, 0.214, -0.1088, 0.0148, -0.0238, 1.5734, 1.5588, 1.552, 1.5474, 1.5474, 1.5447, 1.5416, 1.5416, 1.5381, 1.5381, 1.5381, 1.538, 1.5295, 1.5295, 1.5295, 1.5295, 1.5295, 1.524, 1.524, 1.524, 1.524, 1.524, 1.524, 1.524, 1.524, 1.524, 1.524, 1.524, 1.524, 1.5239, 1.4997, 1.4957, 1.4715, 1.4077, 1.4176, 1.4494, 1.3172, 1.4595, 1.1585, 1.3434, 1.2509, 0.9594, 1.3313, 0.4492, 0.1852, 1.2157, 1.1191, 0.699, 0.6892, -0.0471, 0.0909, 0.2086, 0.4442, 0.3098, 0.0768, 0.0693, 0.0759, 0.0563, 0.6432, -0.2312, 0.0978, -0.1315, 0.102, -0.0485, 0.2788, -0.0754, 0.2528, 0.2656, 0.1849, 0.0753, 0.2244, 0.1025, 0.0623, -0.2112, 0.0818, 0.1042, -0.0668, -0.0709, -0.6299, -0.4663, -0.2011, -0.0357, 1.6938, 1.6877, 1.6852, 1.6824, 1.6792, 1.6792, 1.6792, 1.6792, 1.6756, 1.6715, 1.6667, 1.6665, 1.6611, 1.6611, 1.6611, 1.6609, 1.6544, 1.6544, 1.6544, 1.6464, 1.6464, 1.6464, 1.6464, 1.6463, 1.6463, 1.6453, 1.6364, 1.6364, 1.6364, 1.6364, 1.5811, 1.6057, 1.5741, 1.5684, 1.3861, 1.4658, 1.3451, 1.3435, 1.0557, 1.5013, 1.1067, 1.1825, 1.1039, 0.1821, 0.6968, 0.3509, 0.2684, 0.2723, 0.0403, 0.6317, 0.2386, -0.0398, -0.3172, 0.3105, 0.1027, 0.6759, 0.2168, 0.5549, 0.1101, 0.2327, -0.0227, -0.3616, 0.0366, -0.0803, -0.1644, -0.1777, -0.1402, -0.1924, 0.0534, -0.0387, -0.4993, -0.0411, -0.1995, -0.2583, -0.4519, 1.9296, 1.9253, 1.9216, 1.9137, 1.9106, 1.9089, 1.8965, 1.8934, 1.8895, 1.8884, 1.8852, 1.8852, 1.8852, 1.8851, 1.8826, 1.8802, 1.8802, 1.8801, 1.8742, 1.8672, 1.8672, 1.8672, 1.8672, 1.8672, 1.8672, 1.8668, 1.8587, 1.8587, 1.8586, 1.8586, 1.8586, 1.8162, 1.8356, 1.8302, 1.5284, 1.8042, 1.0442, 1.7968, 0.7884, 1.5328, 1.7441, 1.5998, 1.1745, 0.8166, 0.1307, 0.1529, 1.3378, 0.283, 0.4135, 0.2029, -0.0331, 0.2332, -0.0692, 0.1622, -0.2486, 0.2991, 0.1335, -0.0014, 0.3935, -0.1683, -0.078, -0.2007, -0.1398, -0.0049, -0.0456, -0.0345, 0.0727, 0.1294, 0.1195, -0.1781, 0.3499], \"logprob\": [30.0, 29.0, 28.0, 27.0, 26.0, 25.0, 24.0, 23.0, 22.0, 21.0, 20.0, 19.0, 18.0, 17.0, 16.0, 15.0, 14.0, 13.0, 12.0, 11.0, 10.0, 9.0, 8.0, 7.0, 6.0, 5.0, 4.0, 3.0, 2.0, 1.0, -7.1112, -7.8627, -7.9016, -7.9016, -8.1228, -8.1736, -8.227, -8.2271, -8.2836, -8.3434, -8.3434, -8.3435, -8.4071, -8.4752, -8.4752, -8.0495, -7.6286, -8.5482, -7.3629, -8.627, -8.627, -8.627, -8.5549, -7.3651, -8.6306, -8.7125, -8.7125, -8.7125, -8.7129, -7.9057, -6.8521, -6.513, -7.3642, -7.5004, -7.3791, -7.5889, -7.5181, -7.0779, -8.1228, -5.6514, -5.5652, -6.7561, -7.8628, -7.5236, -6.7413, -7.0298, -5.9864, -6.9619, -7.838, -7.3605, -6.4667, -7.6011, -6.8992, -7.0149, -5.7906, -6.8417, -5.6066, -6.0564, -6.3537, -6.7876, -6.0817, -5.9603, -5.9178, -5.736, -6.3123, -5.9315, -6.8703, -6.2862, -6.3365, -6.6196, -6.4186, -6.4104, -6.4016, -6.3607, -6.6122, -6.6388, -6.5887, -6.6449, -6.6212, -6.6228, -6.6204, -6.6528, -7.4378, -7.6371, -7.7962, -7.8402, -7.8403, -8.0389, -8.0389, -8.0954, -8.0954, -8.1553, -8.2871, -8.2871, -8.3601, -8.3601, -8.3601, -8.3601, -8.4389, -8.4389, -8.5244, -8.5244, -8.5244, -8.5245, -8.2415, -8.6179, -8.6179, -8.6182, -8.7211, -8.7211, -8.7211, -8.7211, -8.0394, -7.2228, -8.3601, -7.5324, -7.8402, -8.3646, -7.3829, -7.1516, -5.5493, -5.9482, -6.3311, -5.7898, -5.6313, -6.4768, -6.1375, -6.0723, -5.8919, -6.3817, -6.4891, -6.3539, -6.3151, -6.2623, -6.3221, -6.436, -6.2314, -6.5852, -6.3135, -6.5524, -6.9055, -6.3941, -6.4542, -6.4875, -6.5226, -6.7803, -6.3614, -6.5969, -6.5823, -6.6912, -6.5864, -6.6595, -6.6528, -7.1937, -7.768, -7.9572, -8.0672, -8.0672, -8.1271, -8.1908, -8.1908, -8.2588, -8.2588, -8.2588, -8.2589, -8.4107, -8.4107, -8.4107, -8.4107, -8.4107, -8.4962, -8.4962, -8.4962, -8.4962, -8.4962, -8.4962, -8.4962, -8.4962, -8.4962, -8.4962, -8.4962, -8.4962, -8.4963, -8.0129, -8.0106, -7.8119, -7.812, -7.9064, -8.1062, -7.7534, -8.2689, -7.3659, -7.9381, -7.7257, -7.0135, -8.0107, -5.9072, -5.4753, -7.8475, -7.7266, -7.0722, -7.0588, -5.9152, -6.1521, -6.3504, -6.7538, -6.6105, -6.3626, -6.4083, -6.4196, -6.4158, -7.1226, -6.1506, -6.5457, -6.3051, -6.5723, -6.4418, -6.7891, -6.4788, -6.828, -6.875, -6.8251, -6.7452, -6.8634, -6.7771, -6.7539, -6.5812, -6.7779, -6.801, -6.7249, -6.7274, -6.6273, -6.7266, -6.8035, -6.8211, -7.746, -7.8986, -7.9551, -8.015, -8.0787, -8.0787, -8.0787, -8.0787, -8.1468, -8.2198, -8.2986, -8.2987, -8.3841, -8.3841, -8.3841, -8.3843, -8.4776, -8.4776, -8.4776, -8.5808, -8.5808, -8.5808, -8.5808, -8.5808, -8.5809, -7.3922, -8.6959, -8.6959, -8.6959, -8.6959, -6.5673, -8.2198, -7.955, -8.015, -6.5516, -7.6265, -7.4488, -7.4489, -6.7227, -8.1468, -7.1585, -7.4258, -7.2871, -5.686, -6.7546, -6.278, -6.3361, -6.3712, -6.1333, -6.9958, -6.5775, -6.2829, -5.9776, -6.6995, -6.5055, -7.0968, -6.7015, -7.018, -6.6082, -6.7227, -6.5003, -6.281, -6.6215, -6.5758, -6.5207, -6.5477, -6.5796, -6.5857, -6.7274, -6.6895, -6.4967, -6.7154, -6.6715, -6.6616, -6.7123, -6.8418, -7.0415, -7.1901, -7.4442, -7.5305, -7.5766, -7.8457, -7.9093, -7.9774, -7.9139, -8.0503, -8.0503, -8.0503, -8.0505, -7.2564, -8.1291, -8.1291, -8.1292, -8.2147, -8.3082, -8.3082, -8.3082, -8.3082, -8.3082, -8.3082, -8.3085, -8.4114, -8.4114, -8.4115, -8.4115, -8.4115, -6.8849, -7.8455, -7.9092, -5.7416, -8.0567, -5.5582, -8.129, -5.763, -7.5561, -8.0503, -7.7856, -7.0769, -6.514, -5.5298, -5.8445, -7.4441, -6.1946, -6.3672, -6.1671, -5.9012, -6.4177, -6.2427, -6.5121, -6.168, -6.6562, -6.5848, -6.497, -6.7885, -6.4113, -6.5174, -6.4611, -6.5331, -6.6614, -6.6745, -6.6926, -6.7478, -6.7757, -6.7988, -6.7826, -6.831]}, \"token.table\": {\"Topic\": [1, 2, 3, 4, 5, 1, 5, 1, 3, 5, 5, 1, 2, 5, 2, 3, 4, 1, 2, 3, 4, 5, 3, 2, 2, 1, 2, 4, 5, 1, 2, 3, 4, 5, 1, 2, 3, 4, 5, 2, 3, 4, 5, 2, 3, 4, 5, 1, 2, 3, 4, 1, 4, 5, 1, 3, 4, 5, 1, 5, 2, 3, 3, 4, 3, 3, 1, 2, 3, 4, 5, 4, 4, 1, 2, 3, 4, 5, 2, 4, 5, 3, 2, 3, 5, 2, 1, 3, 1, 2, 3, 4, 5, 3, 1, 2, 3, 4, 5, 1, 3, 5, 1, 3, 2, 4, 1, 2, 3, 3, 4, 4, 5, 1, 2, 1, 2, 3, 4, 5, 1, 2, 3, 4, 5, 1, 2, 3, 4, 5, 4, 5, 1, 4, 5, 1, 2, 5, 2, 3, 1, 2, 4, 3, 1, 1, 2, 3, 4, 5, 5, 3, 4, 1, 1, 2, 3, 4, 5, 2, 1, 2, 3, 4, 5, 1, 2, 3, 4, 5, 2, 1, 2, 3, 4, 5, 1, 2, 3, 4, 5, 1, 2, 3, 4, 5, 1, 2, 3, 4, 5, 1, 2, 3, 4, 5, 3, 5, 3, 1, 2, 3, 4, 5, 4, 5, 1, 3, 5, 1, 5, 3, 3, 1, 2, 3, 2, 1, 2, 4, 1, 1, 2, 1, 2, 4, 1, 2, 4, 5, 1, 2, 3, 4, 5, 5, 3, 5, 1, 2, 3, 4, 5, 5, 1, 1, 3, 1, 2, 3, 4, 5, 2, 1, 3, 1, 2, 3, 4, 5, 1, 3, 5, 1, 1, 2, 3, 4, 5, 1, 3, 4, 5, 1, 2, 5, 1, 2, 1, 3, 4, 5, 3, 5, 1, 4, 5, 1, 2, 3, 4, 5, 1, 4, 5, 1, 2, 3, 4, 5, 2, 1, 4, 5, 2, 4, 5, 5, 1, 2, 3, 4, 5, 5, 1, 2, 3, 4, 5, 1, 2, 3, 4, 5, 1, 2, 3, 4, 5, 1, 2, 3, 4, 5, 1, 1, 5, 4, 3, 1, 2, 5, 1, 2, 4, 5, 2, 5, 4, 2, 3, 4, 5, 3, 1, 4, 1, 2, 3, 4, 5, 1, 3, 4, 4, 1, 4, 1, 2, 3, 4, 5, 2, 2, 1, 2, 3, 4, 4, 1, 4, 5, 5, 4, 2, 1, 2, 3, 4, 5, 3, 1, 2, 3, 4, 5, 2, 1, 2, 3, 5, 3, 2, 1, 4, 4, 1, 2, 3, 4, 5, 1, 2, 3, 4, 5, 1, 3, 4, 2, 4, 1, 2, 3, 4, 5, 1, 2, 3, 4, 5, 1, 2, 3, 4, 5, 4, 3, 1, 5, 3, 1, 1, 3, 2, 3, 1, 2, 3, 4, 5, 5, 1, 2, 2, 1, 2, 3, 4, 5, 1, 3, 1, 2, 3, 4, 5, 5, 1, 2, 3, 4, 5, 1, 2, 3, 2, 3, 5, 1, 2, 3, 4, 5, 1, 2, 2, 1, 2, 3, 4, 3, 4, 4, 1, 2, 3, 4, 5, 2, 4, 4, 2, 5, 1, 2, 3, 4, 5, 1, 2, 3, 4, 5, 1, 2, 3, 4, 1, 2, 3, 4, 5, 1, 2, 3, 4, 5, 3, 1, 3, 5, 3, 1, 2, 3, 4, 5, 5, 4, 1, 2, 3, 4, 5, 1, 2, 3, 4, 5, 1, 2, 3, 4, 5, 1, 1, 2, 3, 4, 5, 4, 1, 2, 3, 4, 5, 3, 4, 1, 2, 3, 4, 5, 1, 2, 4, 5, 1, 2, 3, 4, 5, 3, 4, 4, 2, 2, 4, 1, 3, 3, 4, 5, 4, 1, 2, 3, 4, 5, 1, 2, 3, 4, 5, 4, 1, 1, 3, 5, 5, 1, 2, 3, 4, 5, 1, 3, 4, 1, 2, 3, 4, 5, 1, 2, 3, 4, 5, 3, 1, 2, 1, 2, 3, 4, 5, 1, 2, 3, 4, 5, 2, 5, 5, 2, 1, 2, 3, 4, 5, 1, 2, 3, 4, 5, 2, 5, 1, 2, 3, 4, 5, 1, 2, 3, 4, 5, 1, 2, 3, 4, 5, 5, 2, 4, 5, 1, 2, 3, 4, 5, 1, 1, 2, 3, 4, 5, 1, 2, 3, 4, 5, 5, 1, 2, 3, 4, 5], \"Freq\": [0.2121416568380553, 0.27931984817010613, 0.19092749115424976, 0.18385610259298127, 0.13789207694473593, 0.9577881713456122, 0.9604871239118938, 0.9308581230510123, 0.979107916456801, 0.9166756677410131, 0.9080709077874849, 0.17887454052116927, 0.8049354323452618, 0.9560267659695424, 0.02485343597511478, 0.3976549756018365, 0.57162902742764, 0.23848444655012055, 0.2201394891231882, 0.16510461684239117, 0.2201394891231882, 0.16051837748565806, 0.9178887680051863, 0.9733065331613132, 0.9737529097594501, 0.015692336337754777, 0.07846168168877389, 0.8630784985765128, 0.04707700901326434, 0.3052716240727723, 0.2436302384426933, 0.2142771976664652, 0.14382989980351774, 0.09099442640630713, 0.05084405921204816, 0.03813304440903612, 0.05084405921204816, 0.7118168289686743, 0.1525321776361445, 0.04563673604103356, 0.13691020812310067, 0.15646880928354365, 0.6584729057349128, 0.14939717121176027, 0.0597588684847041, 0.6872269875740972, 0.1195177369694082, 0.09745560018488153, 0.048727800092440765, 0.7796448014790522, 0.048727800092440765, 0.8926610023199638, 0.0836869689674966, 0.02789565632249887, 0.9116051764640266, 0.02848766176450083, 0.05697532352900166, 0.02848766176450083, 0.0928172381339184, 0.8353551432052656, 0.9125567815450911, 0.06083711876967274, 0.1318000639345949, 0.8567004155748668, 0.9180316483749373, 0.9178887679915496, 0.22996884178920257, 0.22300008900771157, 0.22300008900771157, 0.23345321817994805, 0.08710940976863733, 0.9766255208851153, 0.878185793340084, 0.30739474869242084, 0.23374809015152836, 0.24975823331259195, 0.13128317392072142, 0.07684868717310521, 0.08138300515448695, 0.08138300515448695, 0.8138300515448694, 0.9358608834481368, 0.2874078228196592, 0.718519557049148, 0.9166883886776238, 0.9628353276887, 0.9148054947665086, 0.9180316471455563, 0.03946480628187473, 0.11839441884562418, 0.7498313193556199, 0.03946480628187473, 0.03946480628187473, 0.9180316472578813, 0.8991812598503155, 0.01798362519700631, 0.01798362519700631, 0.05395087559101893, 0.01798362519700631, 0.9577862860513155, 0.9180316475717819, 0.9166795147666231, 0.9706330293448661, 0.9791118296193689, 0.9360030857006639, 0.9412254355605872, 0.0488249888574817, 0.0488249888574817, 0.8788497994346706, 0.9518350391528608, 0.9416158334720776, 0.9654825881018562, 0.9372569430579991, 0.979027503242932, 0.9737529096875412, 0.2440750561943542, 0.23656505446529716, 0.1577100363101981, 0.1990150458200119, 0.16146503717472663, 0.27603243920560966, 0.21416309938366268, 0.14277539958910845, 0.17133047950693014, 0.1903671994521446, 0.14121054434644223, 0.2382927935846213, 0.16768752141140017, 0.3088980657578424, 0.14121054434644223, 0.07703077819287256, 0.9243693383144708, 0.9851667828717349, 0.7733681885570889, 0.1406123979194707, 0.9214857840217726, 0.06143238560145151, 0.030716192800725756, 0.8925974924510743, 0.08114522658646131, 0.09596057417557996, 0.7996714514631663, 0.09596057417557996, 0.9180316473175603, 0.9620718865616975, 0.2328835784560382, 0.2650054513465262, 0.19674647145423918, 0.16863983267506213, 0.1325027256732631, 0.9530054851078318, 0.9904508035766061, 0.9755463494346062, 0.9894378233027034, 0.24450707674742495, 0.22277311436987604, 0.2553740579361994, 0.1521377366428422, 0.11953679307651886, 0.9126843505339047, 0.2643888852623178, 0.21582766143862675, 0.2643888852623178, 0.16187074607897006, 0.09712244764738204, 0.23322045415587547, 0.22846085305065353, 0.2189416508402096, 0.22370125194543156, 0.09519202210443897, 0.9360030860455102, 0.27145160169489146, 0.23793905827576906, 0.14075268236031407, 0.23123654959194456, 0.12064515630884064, 0.43856970590013844, 0.05402670290074169, 0.133477736578303, 0.06356082694204905, 0.3146260933631428, 0.15949242831187485, 0.3163702266514239, 0.3189848566237497, 0.14903390842257158, 0.054907229418842164, 0.5716648153399999, 0.12126223355696968, 0.12126223355696968, 0.12126223355696968, 0.06063111677848484, 0.1184979889909799, 0.14483087543341988, 0.5266577288487996, 0.15799731865463987, 0.052665772884879954, 0.9209671954875636, 0.06139781303250424, 0.9180316474137279, 0.1721829816210759, 0.0968529271618552, 0.4089345813500553, 0.24751303608029662, 0.07533005445922071, 0.9755463493208774, 0.9530054876627237, 0.854932948138083, 0.1257254335497181, 0.01257254335497181, 0.04225611407895837, 0.9296345097370842, 0.9687332085896712, 0.9180316473925293, 0.016237906725017362, 0.5845646421006251, 0.3897097614004167, 0.9126836413649959, 0.062419772832032636, 0.062419772832032636, 0.873876819648457, 0.9829007120729378, 0.9203007652867965, 0.07404718801158133, 0.9354704068288116, 0.05056596793669252, 0.8781858977383918, 0.8218985348860489, 0.01595919485215629, 0.13964295495636753, 0.023938792278234432, 0.23550716085977044, 0.1800937112457068, 0.18702039244746474, 0.0761934932193375, 0.32555401648262383, 0.9530054867384264, 0.07266511599184516, 0.871981391902142, 0.7048614167968059, 0.11946803674522134, 0.05973401837261067, 0.09557442939617708, 0.02389360734904427, 0.9847319048927209, 0.9577862881527544, 0.9790353633230247, 0.9180270899874349, 0.2118439969152058, 0.19585577073292612, 0.1918587141873562, 0.18786165764178628, 0.21584105346077573, 0.8851189845500954, 0.9706129702573372, 0.9180316471455563, 0.2889094421183653, 0.22264580860497876, 0.1643338111131986, 0.14843053906998585, 0.17493599247534045, 0.9186707544293649, 0.024828939308901753, 0.024828939308901753, 0.9690019895254911, 0.03908010988912714, 0.3673530329577951, 0.023448065933476283, 0.35172098900214427, 0.218848615379112, 0.6290731493965647, 0.30954393065545244, 0.009985288085659757, 0.04992644042829878, 0.9633074718772323, 0.03321749903024939, 0.9166883886776238, 0.9851667826173316, 0.9518428447244666, 0.1281953628541578, 0.8973675399791047, 0.9234865909050601, 0.08395332644591455, 0.8245787381080273, 0.1374297896846712, 0.9144965323500693, 0.9416158334720776, 0.9372569438794094, 0.08697924923236433, 0.017395849846472865, 0.2087501981576744, 0.24354189785062014, 0.4522920960082945, 0.9101591839443924, 0.05688494899652453, 0.9530054848282893, 0.23022601920888155, 0.1889034003765182, 0.21841955668534918, 0.17414532222210272, 0.1889034003765182, 0.912683641462989, 0.9260702054387953, 0.08052784395119958, 0.9529803482134287, 0.027271667697949347, 0.08181500309384804, 0.8726933663343791, 0.9023636400267082, 0.38211930423337465, 0.11941228257292959, 0.10747105431563662, 0.17911842385939436, 0.20897149450262678, 0.9080709084117597, 0.27534259192285443, 0.2612224590037337, 0.19062179440813, 0.13061122950186685, 0.1412013291912074, 0.17653068320497264, 0.2625328109202157, 0.2263213887243239, 0.17200425543048614, 0.1629513998815132, 0.22237676306151255, 0.25242767698874397, 0.2193716716687894, 0.1622749352070497, 0.1412392954579877, 0.24128573022711033, 0.19604465580952715, 0.24631251627350847, 0.24128573022711033, 0.07540179069597198, 0.9308581228435544, 0.9029725295643874, 0.05311603115084632, 0.8781814289210458, 0.9415258252823409, 0.9169079259404831, 0.0743438858870662, 0.9530054871450374, 0.8206133142114918, 0.05946473291387621, 0.04757178633110097, 0.05946473291387621, 0.08697572311982366, 0.8697572311982366, 0.9125658693826219, 0.9559879022186809, 0.05406089616918, 0.21624358467672, 0.70279165019934, 0.9180329598840521, 0.8207753982632314, 0.1552818321038546, 0.22279236579371456, 0.21201209002950255, 0.22638579104845188, 0.1688909869726546, 0.1688909869726546, 0.8484363434116712, 0.08776927690465564, 0.058512851269770426, 0.9654890132357576, 0.299248326500248, 0.6882711509505703, 0.15873535239539746, 0.1058235682635983, 0.14109809101813106, 0.5291178413179916, 0.05291178413179915, 0.885108004483181, 0.9559879018163789, 0.03151684685267662, 0.09455054055802986, 0.6303369370535323, 0.25213477482141294, 0.920614667368722, 0.9706129720870135, 0.8781857936113876, 0.8740473932457276, 0.9372569432163164, 0.9755463493843008, 0.9559879020208953, 0.24771454798868847, 0.21642428929538046, 0.2451070264309128, 0.12907231710989558, 0.16166633658209142, 0.9180316471455563, 0.3598724083967747, 0.2724267764498949, 0.07399245780120602, 0.1950710251122704, 0.0975355125561352, 0.9555176155075384, 0.029565990835269562, 0.2365279266821565, 0.17739594501161737, 0.5321878350348521, 0.9415258260946273, 0.9733056285886678, 0.9366166337547056, 0.050627926148903005, 0.9125658691713652, 0.16543629559695244, 0.326277138538434, 0.27572715932825403, 0.16084084294148154, 0.06893178983206351, 0.02320752613185012, 0.6730182578236535, 0.1160376306592506, 0.06962257839555036, 0.1160376306592506, 0.9265704504497393, 0.014944684684673215, 0.05977873873869286, 0.946124497265006, 0.8781857930731498, 0.38150054436063163, 0.16350023329741356, 0.1783638908699057, 0.1684547858215776, 0.11395470805577308, 0.24570836312706074, 0.23868812418057328, 0.16497561524245508, 0.1719958541889425, 0.17901609313542996, 0.233853374613345, 0.2823889806651713, 0.22502871896755838, 0.13678216250969236, 0.11913285121811915, 0.9412129877551539, 0.9791118300555276, 0.9783321414781428, 0.020381919614127976, 0.9180316472286707, 0.970612971838811, 0.06101752429719643, 0.9152628644579465, 0.8925748040942714, 0.08114316400857012, 0.05419602709386152, 0.13007046502526765, 0.19510569753790147, 0.5094426546822983, 0.10839205418772303, 0.9468252351643638, 0.9482235326236325, 0.04310106966471056, 0.960314101343709, 0.5547418100287219, 0.10912953639909284, 0.09094128033257737, 0.16369430459863926, 0.08184715229931963, 0.945166862175184, 0.9518352681164854, 0.2796445301616208, 0.12117929640336901, 0.11185781206464832, 0.335573436193945, 0.15846523375825178, 0.9080627441003966, 0.16001350941813874, 0.12001013206360406, 0.08000675470906937, 0.5400455942862182, 0.10000844338633672, 0.05084124151341024, 0.10168248302682048, 0.864301105727974, 0.9518426589914546, 0.776494090400038, 0.20706509077334348, 0.2885125107100741, 0.3305111673324267, 0.10773568437907831, 0.10773568437907831, 0.1661685979406123, 0.8958421954161829, 0.9461244969503412, 0.965653224227602, 0.19585883536148363, 0.03917176707229673, 0.705091807301341, 0.07834353414459345, 0.9415258253111964, 0.9862793604373151, 0.8781857929768611, 0.4921878358468379, 0.14958649912992134, 0.22196706322504456, 0.02895222563804929, 0.10615816067284739, 0.9302651312196764, 0.9704789906049618, 0.9412254354601957, 0.8851189842449155, 0.9625620922171777, 0.8140660285465141, 0.029073786733804077, 0.043610680100706116, 0.07268446683451019, 0.043610680100706116, 0.30319160768958264, 0.2989806131383384, 0.16001779294727972, 0.11790784743483769, 0.12211884198608189, 0.7023774547448246, 0.09262120282349336, 0.09262120282349336, 0.1003396363921178, 0.3160878754490867, 0.12477152978253421, 0.22042970261581044, 0.18715729467380132, 0.1538848867317922, 0.36721102177729975, 0.24115350683882372, 0.18908627240771406, 0.1370190379766044, 0.0657691382287701, 0.9180316474384647, 0.8949573407316891, 0.07782237745492948, 0.03891118872746474, 0.9789899325070167, 0.3310347555632515, 0.1742288187175008, 0.1785845391854383, 0.18511811988734458, 0.13284947427209434, 0.9868803117930801, 0.941225435418716, 0.36483303945752904, 0.23984394260633854, 0.16214801753667957, 0.1233000550018501, 0.11147676205646721, 0.36375275466360774, 0.21180540144969565, 0.16115628371172494, 0.12892502696937996, 0.1381339574671928, 0.2755880201239726, 0.22160686154298828, 0.2187657479334628, 0.1534201349143765, 0.13069122603817257, 0.940867690167933, 0.1947516257848608, 0.2176635817595503, 0.2634874937089293, 0.12601575786079228, 0.18902363679118842, 0.960149167802956, 0.19977034624904125, 0.17874188874914218, 0.41005492124803206, 0.16822765999919265, 0.0525711437497477, 0.20165636641439855, 0.7662941923747144, 0.7996676639798826, 0.02843262805261805, 0.02843262805261805, 0.0888519626644314, 0.0568652561052361, 0.723186020806115, 0.1091601540839419, 0.08187011556295642, 0.08187011556295642, 0.25414098718581163, 0.10031881073124144, 0.1671980178854024, 0.07356712786957706, 0.4046192032826738, 0.9415258255069816, 0.9416159058729208, 0.9755463493843008, 0.9737529097594501, 0.9559879021474412, 0.9416158334452129, 0.07618857806350164, 0.8380743586985181, 0.9791118298660375, 0.9162606504746312, 0.07635505420621927, 0.9252780495038495, 0.20337354178359932, 0.14985418868265213, 0.38533934232681977, 0.20337354178359932, 0.053519353100947194, 0.025941682681807146, 0.8820172111814429, 0.025941682681807146, 0.025941682681807146, 0.05188336536361429, 0.9125658694322953, 0.9829007129222337, 0.27424470837963977, 0.6399043195524927, 0.06856117709490994, 0.9530054863456768, 0.08621997691134568, 0.11855246825310033, 0.22632743939228245, 0.34487990764538273, 0.22632743939228245, 0.844770154618474, 0.12996463917207293, 0.016245579896509117, 0.16697208787493067, 0.3160543091918331, 0.1610087990222546, 0.1550455101695785, 0.20275182099098726, 0.20708770033409826, 0.36570806654745014, 0.1718387300644645, 0.17624485134816875, 0.07931018310667594, 0.941525825546587, 0.985166784540729, 0.9126836417728762, 0.25520300571093957, 0.22925015767253892, 0.2205992083264054, 0.15139161355733702, 0.14706613888427025, 0.2001871281536025, 0.29724755392504615, 0.31544638375719186, 0.1091929789928741, 0.07886159593929797, 0.9603143421991825, 0.9166756677410127, 0.9270212412409251, 0.9737529097519124, 0.26317346612106024, 0.2713128516711961, 0.19263212468654925, 0.1465089399024459, 0.12480391176875022, 0.39492907230504454, 0.17214856997912198, 0.2075909226218824, 0.12657983086700145, 0.09620067145892111, 0.9130583398725247, 0.9717481023033367, 0.2567331022345509, 0.1656342595061619, 0.21532453735801046, 0.22360625033331857, 0.13250740760492952, 0.25031589710079133, 0.20538740274936726, 0.19415527916151123, 0.21180575908528498, 0.13799466122223114, 0.2678439776880346, 0.20603382899079584, 0.1373558859938639, 0.2506744919388016, 0.1373558859938639, 0.9372475136377562, 0.24116044863485994, 0.08038681621161999, 0.6430945296929599, 0.2503458473338, 0.17577474387266806, 0.2663253695040425, 0.15446871431234466, 0.14914220692226382, 0.9880571197355463, 0.23812781375392209, 0.24980074580068298, 0.22178570888845686, 0.17042480788270895, 0.12139849328631322, 0.4275741777650591, 0.21616250098122433, 0.12827225332951772, 0.11164436863865432, 0.11639519283604387, 0.9948175440847177, 0.7446993526508194, 0.04528577144498226, 0.010063504765551614, 0.19623834292825648, 0.005031752382775807], \"Term\": [\"ab\", \"ab\", \"ab\", \"ab\", \"ab\", \"abbas\", \"ablinger\", \"achaleke\", \"admira\", \"agenturmeldungen\", \"ahmeti\", \"akp\", \"akp\", \"albrecht\", \"alijew\", \"alijew\", \"alijew\", \"allerdings\", \"allerdings\", \"allerdings\", \"allerdings\", \"allerdings\", \"amador\", \"ametsreiter\", \"amtsleiter\", \"android\", \"android\", \"android\", \"android\", \"apa\", \"apa\", \"apa\", \"apa\", \"apa\", \"app\", \"app\", \"app\", \"app\", \"app\", \"apple\", \"apple\", \"apple\", \"apple\", \"apps\", \"apps\", \"apps\", \"apps\", \"argentinien\", \"argentinien\", \"argentinien\", \"argentinien\", \"asyl\", \"asyl\", \"asyl\", \"asylwerber\", \"asylwerber\", \"asylwerber\", \"asylwerber\", \"athleten\", \"athleten\", \"aut\", \"aut\", \"badawi\", \"badawi\", \"barcroft\", \"baumeister\", \"beim\", \"beim\", \"beim\", \"beim\", \"beim\", \"bekmuratov\", \"bentley\", \"bereits\", \"bereits\", \"bereits\", \"bereits\", \"bereits\", \"billa\", \"billa\", \"billa\", \"blackhawks\", \"blatter\", \"blatter\", \"boko\", \"breguet\", \"brickner\", \"bronx\", \"bundesliga\", \"bundesliga\", \"bundesliga\", \"bundesliga\", \"bundesliga\", \"burg\", \"burgenland\", \"burgenland\", \"burgenland\", \"burgenland\", \"burgenland\", \"burschenarbeit\", \"b\\u00f6hler\", \"capitan\", \"caritas\", \"cassegrain\", \"cervantes\", \"cherry\", \"chicago\", \"chicago\", \"chicago\", \"chile\", \"chinetti\", \"coc\", \"cook\", \"coudenhove\", \"cut\", \"dabei\", \"dabei\", \"dabei\", \"dabei\", \"dabei\", \"daf\\u00fcr\", \"daf\\u00fcr\", \"daf\\u00fcr\", \"daf\\u00fcr\", \"daf\\u00fcr\", \"damals\", \"damals\", \"damals\", \"damals\", \"damals\", \"damm\", \"damm\", \"dastandard\", \"deloitte\", \"deloitte\", \"demonstranten\", \"demonstranten\", \"demonstranten\", \"di\\u00e4t\", \"di\\u00e4t\", \"don\", \"don\", \"don\", \"downhill\", \"dragovic\", \"drei\", \"drei\", \"drei\", \"drei\", \"drei\", \"drohne\", \"drusen\", \"ed\", \"elmau\", \"ende\", \"ende\", \"ende\", \"ende\", \"ende\", \"erdo\\u011fan\", \"erst\", \"erst\", \"erst\", \"erst\", \"erst\", \"ersten\", \"ersten\", \"ersten\", \"ersten\", \"ersten\", \"essst\\u00f6rungen\", \"etwa\", \"etwa\", \"etwa\", \"etwa\", \"etwa\", \"eu\", \"eu\", \"eu\", \"eu\", \"eu\", \"euro\", \"euro\", \"euro\", \"euro\", \"euro\", \"europa\", \"europa\", \"europa\", \"europa\", \"europa\", \"ex\", \"ex\", \"ex\", \"ex\", \"ex\", \"ezb\", \"ezb\", \"fabasoft\", \"facebook\", \"facebook\", \"facebook\", \"facebook\", \"facebook\", \"fahrr\\u00e4der\", \"familienserien\", \"faymann\", \"faymann\", \"faymann\", \"fenninger\", \"fenninger\", \"festplattenabgabe\", \"fidschi\", \"fifa\", \"fifa\", \"fifa\", \"fischsauce\", \"flagge\", \"flagge\", \"flagge\", \"flassbeck\", \"fl\\u00fcchtlinge\", \"fl\\u00fcchtlinge\", \"fl\\u00fcchtlingen\", \"fl\\u00fcchtlingen\", \"fma\", \"fp\\u00f6\", \"fp\\u00f6\", \"fp\\u00f6\", \"fp\\u00f6\", \"frauen\", \"frauen\", \"frauen\", \"frauen\", \"frauen\", \"frausein\", \"fritsch\", \"fritsch\", \"g\", \"g\", \"g\", \"g\", \"g\", \"gajeta\", \"garmisch\", \"gazastreifen\", \"gazprom\", \"geht\", \"geht\", \"geht\", \"geht\", \"geht\", \"gelato\", \"gelsen\", \"ghetto\", \"gibt\", \"gibt\", \"gibt\", \"gibt\", \"gibt\", \"gipfel\", \"gipfel\", \"gipfel\", \"gipfels\", \"google\", \"google\", \"google\", \"google\", \"google\", \"griechenland\", \"griechenland\", \"griechenland\", \"griechenland\", \"hamas\", \"hamas\", \"haram\", \"hatoyama\", \"hdp\", \"heraf\", \"heraf\", \"herrengasse\", \"herrengasse\", \"heta\", \"heta\", \"hodges\", \"hugus\", \"hyksos\", \"hypo\", \"hypo\", \"hypo\", \"hypo\", \"hypo\", \"h\\u00e4upl\", \"h\\u00e4upl\", \"identit\\u00e4ren\", \"immer\", \"immer\", \"immer\", \"immer\", \"immer\", \"infineon\", \"innenministerin\", \"innenministerin\", \"intel\", \"ios\", \"ios\", \"ios\", \"ipad\", \"ja\", \"ja\", \"ja\", \"ja\", \"ja\", \"jablonka\", \"jahr\", \"jahr\", \"jahr\", \"jahr\", \"jahr\", \"jahre\", \"jahre\", \"jahre\", \"jahre\", \"jahre\", \"jahren\", \"jahren\", \"jahren\", \"jahren\", \"jahren\", \"juni\", \"juni\", \"juni\", \"juni\", \"juni\", \"kalergi\", \"kasernen\", \"kasernen\", \"kerry\", \"khm\", \"kiew\", \"kiew\", \"kirigin\", \"koalition\", \"koalition\", \"koalition\", \"koalition\", \"kometen\", \"kometen\", \"konf\\u00f6derierten\", \"konventionalstrafe\", \"kulterer\", \"kulterer\", \"kulterer\", \"k\\u00fcnstlern\", \"landeshauptmann\", \"landeshauptmann\", \"laut\", \"laut\", \"laut\", \"laut\", \"laut\", \"leitner\", \"leitner\", \"leitner\", \"lm\", \"lopatka\", \"lopatka\", \"m\", \"m\", \"m\", \"m\", \"m\", \"maiziere\", \"mancha\", \"mannschaft\", \"mannschaft\", \"mannschaft\", \"mannschaft\", \"mans\", \"marino\", \"masten\", \"mathiaschitz\", \"mbit\", \"mechanische\", \"mehi\\u0107\", \"mehr\", \"mehr\", \"mehr\", \"mehr\", \"mehr\", \"melendez\", \"menschen\", \"menschen\", \"menschen\", \"menschen\", \"menschen\", \"mensdorff\", \"mercedes\", \"mercedes\", \"mercedes\", \"mercedes\", \"merlicek\", \"mers\", \"mikl\", \"mikl\", \"miklau\", \"millionen\", \"millionen\", \"millionen\", \"millionen\", \"millionen\", \"mio\", \"mio\", \"mio\", \"mio\", \"mio\", \"moskau\", \"moskau\", \"moskau\", \"murdoch\", \"murer\", \"m\\u00fcssen\", \"m\\u00fcssen\", \"m\\u00fcssen\", \"m\\u00fcssen\", \"m\\u00fcssen\", \"neue\", \"neue\", \"neue\", \"neue\", \"neue\", \"neuen\", \"neuen\", \"neuen\", \"neuen\", \"neuen\", \"nexus\", \"nhl\", \"niessl\", \"niessl\", \"nusra\", \"olg\", \"omv\", \"omv\", \"orange\", \"orange\", \"orf\", \"orf\", \"orf\", \"orf\", \"orf\", \"os\", \"osze\", \"osze\", \"par\", \"partei\", \"partei\", \"partei\", \"partei\", \"partei\", \"partenkirchen\", \"pekoll\", \"personen\", \"personen\", \"personen\", \"personen\", \"personen\", \"philae\", \"plus\", \"plus\", \"plus\", \"plus\", \"plus\", \"pool\", \"pool\", \"pool\", \"pouilly\", \"prager\", \"prager\", \"prozent\", \"prozent\", \"prozent\", \"prozent\", \"prozent\", \"pr\\u00f6dl\", \"quantenmechanik\", \"quijote\", \"rapid\", \"rapid\", \"rapid\", \"rapid\", \"rathkolb\", \"razer\", \"reda\", \"regierung\", \"regierung\", \"regierung\", \"regierung\", \"regierung\", \"reiners\", \"rindt\", \"ringler\", \"ritter\", \"rosetta\", \"rot\", \"rot\", \"rot\", \"rot\", \"rot\", \"rund\", \"rund\", \"rund\", \"rund\", \"rund\", \"russland\", \"russland\", \"russland\", \"russland\", \"sagt\", \"sagt\", \"sagt\", \"sagt\", \"sagt\", \"sagte\", \"sagte\", \"sagte\", \"sagte\", \"sagte\", \"sambo\", \"schelling\", \"schelling\", \"schelling\", \"schily\", \"schon\", \"schon\", \"schon\", \"schon\", \"schon\", \"schr\\u00f6cksnadel\", \"schwertsik\", \"sei\", \"sei\", \"sei\", \"sei\", \"sei\", \"seien\", \"seien\", \"seien\", \"seien\", \"seien\", \"seit\", \"seit\", \"seit\", \"seit\", \"seit\", \"separatisten\", \"sollen\", \"sollen\", \"sollen\", \"sollen\", \"sollen\", \"sparks\", \"spiel\", \"spiel\", \"spiel\", \"spiel\", \"spiel\", \"spotify\", \"spotify\", \"sp\\u00f6\", \"sp\\u00f6\", \"sp\\u00f6\", \"sp\\u00f6\", \"sp\\u00f6\", \"staaten\", \"staaten\", \"staaten\", \"staaten\", \"standard\", \"standard\", \"standard\", \"standard\", \"standard\", \"stanley\", \"staudinger\", \"steel\", \"steier\", \"stoss\", \"switches\", \"syriza\", \"syriza\", \"tampa\", \"tastatur\", \"tastatur\", \"tastaturen\", \"team\", \"team\", \"team\", \"team\", \"team\", \"telekom\", \"telekom\", \"telekom\", \"telekom\", \"telekom\", \"timraliyev\", \"trump\", \"tsipras\", \"tsipras\", \"tsipras\", \"uhf\", \"uhr\", \"uhr\", \"uhr\", \"uhr\", \"uhr\", \"ukraine\", \"ukraine\", \"ukraine\", \"unternehmen\", \"unternehmen\", \"unternehmen\", \"unternehmen\", \"unternehmen\", \"us\", \"us\", \"us\", \"us\", \"us\", \"usbekistan\", \"verteilung\", \"verwaltungsrat\", \"viele\", \"viele\", \"viele\", \"viele\", \"viele\", \"vier\", \"vier\", \"vier\", \"vier\", \"vier\", \"vodafone\", \"volltext\", \"vranitzky\", \"waldherr\", \"wien\", \"wien\", \"wien\", \"wien\", \"wien\", \"wiener\", \"wiener\", \"wiener\", \"wiener\", \"wiener\", \"wiesberger\", \"wlaschek\", \"worden\", \"worden\", \"worden\", \"worden\", \"worden\", \"wurde\", \"wurde\", \"wurde\", \"wurde\", \"wurde\", \"wurden\", \"wurden\", \"wurden\", \"wurden\", \"wurden\", \"wwdc\", \"x\", \"x\", \"x\", \"zeit\", \"zeit\", \"zeit\", \"zeit\", \"zeit\", \"zelte\", \"zwei\", \"zwei\", \"zwei\", \"zwei\", \"zwei\", \"\\u00f6sterreich\", \"\\u00f6sterreich\", \"\\u00f6sterreich\", \"\\u00f6sterreich\", \"\\u00f6sterreich\", \"\\u00f6sv\", \"\\u00f6vp\", \"\\u00f6vp\", \"\\u00f6vp\", \"\\u00f6vp\", \"\\u00f6vp\"]}, \"R\": 30, \"lambda.step\": 0.01, \"plot.opts\": {\"xlab\": \"PC1\", \"ylab\": \"PC2\"}, \"topic.order\": [4, 2, 3, 5, 1]};\n",
              "\n",
              "function LDAvis_load_lib(url, callback){\n",
              "  var s = document.createElement('script');\n",
              "  s.src = url;\n",
              "  s.async = true;\n",
              "  s.onreadystatechange = s.onload = callback;\n",
              "  s.onerror = function(){console.warn(\"failed to load library \" + url);};\n",
              "  document.getElementsByTagName(\"head\")[0].appendChild(s);\n",
              "}\n",
              "\n",
              "if(typeof(LDAvis) !== \"undefined\"){\n",
              "   // already loaded: just create the visualization\n",
              "   !function(LDAvis){\n",
              "       new LDAvis(\"#\" + \"ldavis_el1201404415104418724278724665\", ldavis_el1201404415104418724278724665_data);\n",
              "   }(LDAvis);\n",
              "}else if(typeof define === \"function\" && define.amd){\n",
              "   // require.js is available: use it to load d3/LDAvis\n",
              "   require.config({paths: {d3: \"https://cdnjs.cloudflare.com/ajax/libs/d3/3.5.5/d3.min\"}});\n",
              "   require([\"d3\"], function(d3){\n",
              "      window.d3 = d3;\n",
              "      LDAvis_load_lib(\"https://cdn.rawgit.com/bmabey/pyLDAvis/files/ldavis.v1.0.0.js\", function(){\n",
              "        new LDAvis(\"#\" + \"ldavis_el1201404415104418724278724665\", ldavis_el1201404415104418724278724665_data);\n",
              "      });\n",
              "    });\n",
              "}else{\n",
              "    // require.js not available: dynamically load d3 & LDAvis\n",
              "    LDAvis_load_lib(\"https://cdnjs.cloudflare.com/ajax/libs/d3/3.5.5/d3.min.js\", function(){\n",
              "         LDAvis_load_lib(\"https://cdn.rawgit.com/bmabey/pyLDAvis/files/ldavis.v1.0.0.js\", function(){\n",
              "                 new LDAvis(\"#\" + \"ldavis_el1201404415104418724278724665\", ldavis_el1201404415104418724278724665_data);\n",
              "            })\n",
              "         });\n",
              "}\n",
              "</script>"
            ],
            "text/plain": [
              "<IPython.core.display.HTML object>"
            ]
          },
          "metadata": {
            "tags": []
          },
          "execution_count": 144
        }
      ]
    }
  ]
}
